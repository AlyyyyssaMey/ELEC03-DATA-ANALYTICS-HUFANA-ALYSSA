{
 "cells": [
  {
   "cell_type": "markdown",
   "id": "34a6f19f-165d-4d22-a83d-c805bfd3c58c",
   "metadata": {},
   "source": [
    "<h1> UK ROAD ACCIDENTS </h1>"
   ]
  },
  {
   "cell_type": "markdown",
   "id": "dbd56af4-5cda-4b7f-8cff-2f6770307f16",
   "metadata": {},
   "source": [
    "<h4> Analyst: Hufana, Alyssa Mae D. </h4>"
   ]
  },
  {
   "cell_type": "code",
   "execution_count": 1,
   "id": "b59dbedb-ceff-4482-a8cc-8fa72e5b372d",
   "metadata": {},
   "outputs": [],
   "source": [
    "import numpy as np\n",
    "import pandas as pd\n",
    "import matplotlib.pyplot as plt\n",
    "import seaborn as sns\n",
    "import warnings\n",
    "warnings.filterwarnings(\"ignore\")"
   ]
  },
  {
   "cell_type": "code",
   "execution_count": 2,
   "id": "8c8feadb-3b46-442f-830c-537cbd0046b7",
   "metadata": {},
   "outputs": [],
   "source": [
    "accidents=pd.read_csv('datasets//uk_road_accident.csv')"
   ]
  },
  {
   "cell_type": "code",
   "execution_count": 3,
   "id": "7287b1f7-2e33-4a80-9285-ade08dc5c45e",
   "metadata": {},
   "outputs": [
    {
     "data": {
      "text/html": [
       "<div>\n",
       "<style scoped>\n",
       "    .dataframe tbody tr th:only-of-type {\n",
       "        vertical-align: middle;\n",
       "    }\n",
       "\n",
       "    .dataframe tbody tr th {\n",
       "        vertical-align: top;\n",
       "    }\n",
       "\n",
       "    .dataframe thead th {\n",
       "        text-align: right;\n",
       "    }\n",
       "</style>\n",
       "<table border=\"1\" class=\"dataframe\">\n",
       "  <thead>\n",
       "    <tr style=\"text-align: right;\">\n",
       "      <th></th>\n",
       "      <th>Index</th>\n",
       "      <th>Accident_Severity</th>\n",
       "      <th>Accident Date</th>\n",
       "      <th>Latitude</th>\n",
       "      <th>Light_Conditions</th>\n",
       "      <th>District Area</th>\n",
       "      <th>Longitude</th>\n",
       "      <th>Number_of_Casualties</th>\n",
       "      <th>Number_of_Vehicles</th>\n",
       "      <th>Road_Surface_Conditions</th>\n",
       "      <th>Road_Type</th>\n",
       "      <th>Urban_or_Rural_Area</th>\n",
       "      <th>Weather_Conditions</th>\n",
       "      <th>Vehicle_Type</th>\n",
       "    </tr>\n",
       "  </thead>\n",
       "  <tbody>\n",
       "    <tr>\n",
       "      <th>0</th>\n",
       "      <td>200701BS64157</td>\n",
       "      <td>Serious</td>\n",
       "      <td>5/6/2019</td>\n",
       "      <td>51.506187</td>\n",
       "      <td>Darkness - lights lit</td>\n",
       "      <td>Kensington and Chelsea</td>\n",
       "      <td>-0.209082</td>\n",
       "      <td>1</td>\n",
       "      <td>2</td>\n",
       "      <td>Dry</td>\n",
       "      <td>Single carriageway</td>\n",
       "      <td>Urban</td>\n",
       "      <td>Fine no high winds</td>\n",
       "      <td>Car</td>\n",
       "    </tr>\n",
       "    <tr>\n",
       "      <th>1</th>\n",
       "      <td>200701BS65737</td>\n",
       "      <td>Serious</td>\n",
       "      <td>2/7/2019</td>\n",
       "      <td>51.495029</td>\n",
       "      <td>Daylight</td>\n",
       "      <td>Kensington and Chelsea</td>\n",
       "      <td>-0.173647</td>\n",
       "      <td>1</td>\n",
       "      <td>2</td>\n",
       "      <td>Wet or damp</td>\n",
       "      <td>Single carriageway</td>\n",
       "      <td>Urban</td>\n",
       "      <td>Raining no high winds</td>\n",
       "      <td>Car</td>\n",
       "    </tr>\n",
       "    <tr>\n",
       "      <th>2</th>\n",
       "      <td>200701BS66127</td>\n",
       "      <td>Serious</td>\n",
       "      <td>26-08-2019</td>\n",
       "      <td>51.517715</td>\n",
       "      <td>Darkness - lighting unknown</td>\n",
       "      <td>Kensington and Chelsea</td>\n",
       "      <td>-0.210215</td>\n",
       "      <td>1</td>\n",
       "      <td>3</td>\n",
       "      <td>Dry</td>\n",
       "      <td>NaN</td>\n",
       "      <td>Urban</td>\n",
       "      <td>NaN</td>\n",
       "      <td>Taxi/Private hire car</td>\n",
       "    </tr>\n",
       "    <tr>\n",
       "      <th>3</th>\n",
       "      <td>200701BS66128</td>\n",
       "      <td>Serious</td>\n",
       "      <td>16-08-2019</td>\n",
       "      <td>51.495478</td>\n",
       "      <td>Daylight</td>\n",
       "      <td>Kensington and Chelsea</td>\n",
       "      <td>-0.202731</td>\n",
       "      <td>1</td>\n",
       "      <td>4</td>\n",
       "      <td>Dry</td>\n",
       "      <td>Single carriageway</td>\n",
       "      <td>Urban</td>\n",
       "      <td>Fine no high winds</td>\n",
       "      <td>Bus or coach (17 or more pass seats)</td>\n",
       "    </tr>\n",
       "    <tr>\n",
       "      <th>4</th>\n",
       "      <td>200701BS66837</td>\n",
       "      <td>Slight</td>\n",
       "      <td>3/9/2019</td>\n",
       "      <td>51.488576</td>\n",
       "      <td>Darkness - lights lit</td>\n",
       "      <td>Kensington and Chelsea</td>\n",
       "      <td>-0.192487</td>\n",
       "      <td>1</td>\n",
       "      <td>2</td>\n",
       "      <td>Dry</td>\n",
       "      <td>NaN</td>\n",
       "      <td>Urban</td>\n",
       "      <td>NaN</td>\n",
       "      <td>Other vehicle</td>\n",
       "    </tr>\n",
       "    <tr>\n",
       "      <th>...</th>\n",
       "      <td>...</td>\n",
       "      <td>...</td>\n",
       "      <td>...</td>\n",
       "      <td>...</td>\n",
       "      <td>...</td>\n",
       "      <td>...</td>\n",
       "      <td>...</td>\n",
       "      <td>...</td>\n",
       "      <td>...</td>\n",
       "      <td>...</td>\n",
       "      <td>...</td>\n",
       "      <td>...</td>\n",
       "      <td>...</td>\n",
       "      <td>...</td>\n",
       "    </tr>\n",
       "    <tr>\n",
       "      <th>660674</th>\n",
       "      <td>201091NM01760</td>\n",
       "      <td>Slight</td>\n",
       "      <td>18-02-2022</td>\n",
       "      <td>57.374005</td>\n",
       "      <td>Daylight</td>\n",
       "      <td>Highland</td>\n",
       "      <td>-3.467828</td>\n",
       "      <td>2</td>\n",
       "      <td>1</td>\n",
       "      <td>Dry</td>\n",
       "      <td>Single carriageway</td>\n",
       "      <td>Rural</td>\n",
       "      <td>Fine no high winds</td>\n",
       "      <td>Car</td>\n",
       "    </tr>\n",
       "    <tr>\n",
       "      <th>660675</th>\n",
       "      <td>201091NM01881</td>\n",
       "      <td>Slight</td>\n",
       "      <td>21-02-2022</td>\n",
       "      <td>57.232273</td>\n",
       "      <td>Darkness - no lighting</td>\n",
       "      <td>Highland</td>\n",
       "      <td>-3.809281</td>\n",
       "      <td>1</td>\n",
       "      <td>1</td>\n",
       "      <td>Frost or ice</td>\n",
       "      <td>Single carriageway</td>\n",
       "      <td>Rural</td>\n",
       "      <td>Fine no high winds</td>\n",
       "      <td>Car</td>\n",
       "    </tr>\n",
       "    <tr>\n",
       "      <th>660676</th>\n",
       "      <td>201091NM01935</td>\n",
       "      <td>Slight</td>\n",
       "      <td>23-02-2022</td>\n",
       "      <td>57.585044</td>\n",
       "      <td>Daylight</td>\n",
       "      <td>Highland</td>\n",
       "      <td>-3.862727</td>\n",
       "      <td>1</td>\n",
       "      <td>3</td>\n",
       "      <td>Frost or ice</td>\n",
       "      <td>Single carriageway</td>\n",
       "      <td>Rural</td>\n",
       "      <td>Fine no high winds</td>\n",
       "      <td>Car</td>\n",
       "    </tr>\n",
       "    <tr>\n",
       "      <th>660677</th>\n",
       "      <td>201091NM01964</td>\n",
       "      <td>Serious</td>\n",
       "      <td>23-02-2022</td>\n",
       "      <td>57.214898</td>\n",
       "      <td>Darkness - no lighting</td>\n",
       "      <td>Highland</td>\n",
       "      <td>-3.823997</td>\n",
       "      <td>1</td>\n",
       "      <td>2</td>\n",
       "      <td>Wet or damp</td>\n",
       "      <td>Single carriageway</td>\n",
       "      <td>Rural</td>\n",
       "      <td>Fine no high winds</td>\n",
       "      <td>Motorcycle over 500cc</td>\n",
       "    </tr>\n",
       "    <tr>\n",
       "      <th>660678</th>\n",
       "      <td>201091NM02142</td>\n",
       "      <td>Serious</td>\n",
       "      <td>28-02-2022</td>\n",
       "      <td>57.575210</td>\n",
       "      <td>Daylight</td>\n",
       "      <td>Highland</td>\n",
       "      <td>-3.895673</td>\n",
       "      <td>1</td>\n",
       "      <td>1</td>\n",
       "      <td>Wet or damp</td>\n",
       "      <td>Dual carriageway</td>\n",
       "      <td>Rural</td>\n",
       "      <td>Snowing no high winds</td>\n",
       "      <td>Car</td>\n",
       "    </tr>\n",
       "  </tbody>\n",
       "</table>\n",
       "<p>660679 rows × 14 columns</p>\n",
       "</div>"
      ],
      "text/plain": [
       "                Index Accident_Severity Accident Date   Latitude  \\\n",
       "0       200701BS64157           Serious      5/6/2019  51.506187   \n",
       "1       200701BS65737           Serious      2/7/2019  51.495029   \n",
       "2       200701BS66127           Serious    26-08-2019  51.517715   \n",
       "3       200701BS66128           Serious    16-08-2019  51.495478   \n",
       "4       200701BS66837            Slight      3/9/2019  51.488576   \n",
       "...               ...               ...           ...        ...   \n",
       "660674  201091NM01760            Slight    18-02-2022  57.374005   \n",
       "660675  201091NM01881            Slight    21-02-2022  57.232273   \n",
       "660676  201091NM01935            Slight    23-02-2022  57.585044   \n",
       "660677  201091NM01964           Serious    23-02-2022  57.214898   \n",
       "660678  201091NM02142           Serious    28-02-2022  57.575210   \n",
       "\n",
       "                   Light_Conditions           District Area  Longitude  \\\n",
       "0             Darkness - lights lit  Kensington and Chelsea  -0.209082   \n",
       "1                          Daylight  Kensington and Chelsea  -0.173647   \n",
       "2       Darkness - lighting unknown  Kensington and Chelsea  -0.210215   \n",
       "3                          Daylight  Kensington and Chelsea  -0.202731   \n",
       "4             Darkness - lights lit  Kensington and Chelsea  -0.192487   \n",
       "...                             ...                     ...        ...   \n",
       "660674                     Daylight                Highland  -3.467828   \n",
       "660675       Darkness - no lighting                Highland  -3.809281   \n",
       "660676                     Daylight                Highland  -3.862727   \n",
       "660677       Darkness - no lighting                Highland  -3.823997   \n",
       "660678                     Daylight                Highland  -3.895673   \n",
       "\n",
       "        Number_of_Casualties  Number_of_Vehicles Road_Surface_Conditions  \\\n",
       "0                          1                   2                     Dry   \n",
       "1                          1                   2             Wet or damp   \n",
       "2                          1                   3                     Dry   \n",
       "3                          1                   4                     Dry   \n",
       "4                          1                   2                     Dry   \n",
       "...                      ...                 ...                     ...   \n",
       "660674                     2                   1                     Dry   \n",
       "660675                     1                   1            Frost or ice   \n",
       "660676                     1                   3            Frost or ice   \n",
       "660677                     1                   2             Wet or damp   \n",
       "660678                     1                   1             Wet or damp   \n",
       "\n",
       "                 Road_Type Urban_or_Rural_Area     Weather_Conditions  \\\n",
       "0       Single carriageway               Urban     Fine no high winds   \n",
       "1       Single carriageway               Urban  Raining no high winds   \n",
       "2                      NaN               Urban                    NaN   \n",
       "3       Single carriageway               Urban     Fine no high winds   \n",
       "4                      NaN               Urban                    NaN   \n",
       "...                    ...                 ...                    ...   \n",
       "660674  Single carriageway               Rural     Fine no high winds   \n",
       "660675  Single carriageway               Rural     Fine no high winds   \n",
       "660676  Single carriageway               Rural     Fine no high winds   \n",
       "660677  Single carriageway               Rural     Fine no high winds   \n",
       "660678    Dual carriageway               Rural  Snowing no high winds   \n",
       "\n",
       "                                Vehicle_Type  \n",
       "0                                        Car  \n",
       "1                                        Car  \n",
       "2                      Taxi/Private hire car  \n",
       "3       Bus or coach (17 or more pass seats)  \n",
       "4                              Other vehicle  \n",
       "...                                      ...  \n",
       "660674                                   Car  \n",
       "660675                                   Car  \n",
       "660676                                   Car  \n",
       "660677                 Motorcycle over 500cc  \n",
       "660678                                   Car  \n",
       "\n",
       "[660679 rows x 14 columns]"
      ]
     },
     "execution_count": 3,
     "metadata": {},
     "output_type": "execute_result"
    }
   ],
   "source": [
    "accidents"
   ]
  },
  {
   "cell_type": "code",
   "execution_count": 46,
   "id": "96fbcde2-5ea0-46a6-adcd-a90ab68742fb",
   "metadata": {},
   "outputs": [],
   "source": [
    "accidents['Accident Date'] = pd.to_datetime(accidents['Accident Date'], errors='coerce', dayfirst=True)"
   ]
  },
  {
   "cell_type": "code",
   "execution_count": 47,
   "id": "001fce26-8126-44c6-b8ae-7c34ca26d4e4",
   "metadata": {},
   "outputs": [],
   "source": [
    "accidents['Year'] = accidents['Accident Date'].dt.year\n",
    "accidents['Month'] = accidents['Accident Date'].dt.month\n",
    "accidents['Day'] = accidents['Accident Date'].dt.day\n",
    "accidents['DayOfWeek'] = accidents['Accident Date'].dt.day_name()\n",
    "accidents['Quarter'] = accidents['Accident Date'].dt.to_period(\"Q\")"
   ]
  },
  {
   "cell_type": "markdown",
   "id": "fef32cc6-e519-47fb-b3cc-d1f692a20b05",
   "metadata": {},
   "source": [
    "<h3> Descriptive Analytics </h3>"
   ]
  },
  {
   "cell_type": "code",
   "execution_count": 6,
   "id": "b887269f-255f-4736-8341-a5f5aaec4a0b",
   "metadata": {},
   "outputs": [
    {
     "data": {
      "text/html": [
       "<div>\n",
       "<style scoped>\n",
       "    .dataframe tbody tr th:only-of-type {\n",
       "        vertical-align: middle;\n",
       "    }\n",
       "\n",
       "    .dataframe tbody tr th {\n",
       "        vertical-align: top;\n",
       "    }\n",
       "\n",
       "    .dataframe thead th {\n",
       "        text-align: right;\n",
       "    }\n",
       "</style>\n",
       "<table border=\"1\" class=\"dataframe\">\n",
       "  <thead>\n",
       "    <tr style=\"text-align: right;\">\n",
       "      <th></th>\n",
       "      <th>Accident Date</th>\n",
       "      <th>Latitude</th>\n",
       "      <th>Longitude</th>\n",
       "      <th>Number_of_Casualties</th>\n",
       "      <th>Number_of_Vehicles</th>\n",
       "      <th>Year</th>\n",
       "      <th>Month</th>\n",
       "      <th>Day</th>\n",
       "    </tr>\n",
       "  </thead>\n",
       "  <tbody>\n",
       "    <tr>\n",
       "      <th>count</th>\n",
       "      <td>265007</td>\n",
       "      <td>660654.000000</td>\n",
       "      <td>660653.000000</td>\n",
       "      <td>660679.000000</td>\n",
       "      <td>660679.000000</td>\n",
       "      <td>265007.000000</td>\n",
       "      <td>265007.000000</td>\n",
       "      <td>265007.000000</td>\n",
       "    </tr>\n",
       "    <tr>\n",
       "      <th>mean</th>\n",
       "      <td>2020-11-23 16:22:04.873683456</td>\n",
       "      <td>52.553866</td>\n",
       "      <td>-1.431210</td>\n",
       "      <td>1.357040</td>\n",
       "      <td>1.831255</td>\n",
       "      <td>2020.407216</td>\n",
       "      <td>6.708374</td>\n",
       "      <td>6.522028</td>\n",
       "    </tr>\n",
       "    <tr>\n",
       "      <th>min</th>\n",
       "      <td>2019-01-01 00:00:00</td>\n",
       "      <td>49.914430</td>\n",
       "      <td>-7.516225</td>\n",
       "      <td>1.000000</td>\n",
       "      <td>1.000000</td>\n",
       "      <td>2019.000000</td>\n",
       "      <td>1.000000</td>\n",
       "      <td>1.000000</td>\n",
       "    </tr>\n",
       "    <tr>\n",
       "      <th>25%</th>\n",
       "      <td>2019-12-03 00:00:00</td>\n",
       "      <td>51.490690</td>\n",
       "      <td>-2.332291</td>\n",
       "      <td>1.000000</td>\n",
       "      <td>1.000000</td>\n",
       "      <td>2019.000000</td>\n",
       "      <td>4.000000</td>\n",
       "      <td>4.000000</td>\n",
       "    </tr>\n",
       "    <tr>\n",
       "      <th>50%</th>\n",
       "      <td>2020-11-07 00:00:00</td>\n",
       "      <td>52.315641</td>\n",
       "      <td>-1.411667</td>\n",
       "      <td>1.000000</td>\n",
       "      <td>2.000000</td>\n",
       "      <td>2020.000000</td>\n",
       "      <td>7.000000</td>\n",
       "      <td>7.000000</td>\n",
       "    </tr>\n",
       "    <tr>\n",
       "      <th>75%</th>\n",
       "      <td>2021-11-07 00:00:00</td>\n",
       "      <td>53.453452</td>\n",
       "      <td>-0.232869</td>\n",
       "      <td>1.000000</td>\n",
       "      <td>2.000000</td>\n",
       "      <td>2021.000000</td>\n",
       "      <td>10.000000</td>\n",
       "      <td>10.000000</td>\n",
       "    </tr>\n",
       "    <tr>\n",
       "      <th>max</th>\n",
       "      <td>2022-12-12 00:00:00</td>\n",
       "      <td>60.757544</td>\n",
       "      <td>1.762010</td>\n",
       "      <td>68.000000</td>\n",
       "      <td>32.000000</td>\n",
       "      <td>2022.000000</td>\n",
       "      <td>12.000000</td>\n",
       "      <td>12.000000</td>\n",
       "    </tr>\n",
       "    <tr>\n",
       "      <th>std</th>\n",
       "      <td>NaN</td>\n",
       "      <td>1.406922</td>\n",
       "      <td>1.383330</td>\n",
       "      <td>0.824847</td>\n",
       "      <td>0.715269</td>\n",
       "      <td>1.101126</td>\n",
       "      <td>3.445617</td>\n",
       "      <td>3.467063</td>\n",
       "    </tr>\n",
       "  </tbody>\n",
       "</table>\n",
       "</div>"
      ],
      "text/plain": [
       "                       Accident Date       Latitude      Longitude  \\\n",
       "count                         265007  660654.000000  660653.000000   \n",
       "mean   2020-11-23 16:22:04.873683456      52.553866      -1.431210   \n",
       "min              2019-01-01 00:00:00      49.914430      -7.516225   \n",
       "25%              2019-12-03 00:00:00      51.490690      -2.332291   \n",
       "50%              2020-11-07 00:00:00      52.315641      -1.411667   \n",
       "75%              2021-11-07 00:00:00      53.453452      -0.232869   \n",
       "max              2022-12-12 00:00:00      60.757544       1.762010   \n",
       "std                              NaN       1.406922       1.383330   \n",
       "\n",
       "       Number_of_Casualties  Number_of_Vehicles           Year          Month  \\\n",
       "count         660679.000000       660679.000000  265007.000000  265007.000000   \n",
       "mean               1.357040            1.831255    2020.407216       6.708374   \n",
       "min                1.000000            1.000000    2019.000000       1.000000   \n",
       "25%                1.000000            1.000000    2019.000000       4.000000   \n",
       "50%                1.000000            2.000000    2020.000000       7.000000   \n",
       "75%                1.000000            2.000000    2021.000000      10.000000   \n",
       "max               68.000000           32.000000    2022.000000      12.000000   \n",
       "std                0.824847            0.715269       1.101126       3.445617   \n",
       "\n",
       "                 Day  \n",
       "count  265007.000000  \n",
       "mean        6.522028  \n",
       "min         1.000000  \n",
       "25%         4.000000  \n",
       "50%         7.000000  \n",
       "75%        10.000000  \n",
       "max        12.000000  \n",
       "std         3.467063  "
      ]
     },
     "execution_count": 6,
     "metadata": {},
     "output_type": "execute_result"
    }
   ],
   "source": [
    "accidents.describe()"
   ]
  },
  {
   "cell_type": "code",
   "execution_count": 7,
   "id": "ee48cde2-7e3e-46a6-8ce9-b15363723321",
   "metadata": {},
   "outputs": [
    {
     "data": {
      "text/html": [
       "<div>\n",
       "<style scoped>\n",
       "    .dataframe tbody tr th:only-of-type {\n",
       "        vertical-align: middle;\n",
       "    }\n",
       "\n",
       "    .dataframe tbody tr th {\n",
       "        vertical-align: top;\n",
       "    }\n",
       "\n",
       "    .dataframe thead th {\n",
       "        text-align: right;\n",
       "    }\n",
       "</style>\n",
       "<table border=\"1\" class=\"dataframe\">\n",
       "  <thead>\n",
       "    <tr style=\"text-align: right;\">\n",
       "      <th></th>\n",
       "      <th>count</th>\n",
       "      <th>mean</th>\n",
       "      <th>min</th>\n",
       "      <th>25%</th>\n",
       "      <th>50%</th>\n",
       "      <th>75%</th>\n",
       "      <th>max</th>\n",
       "      <th>std</th>\n",
       "    </tr>\n",
       "  </thead>\n",
       "  <tbody>\n",
       "    <tr>\n",
       "      <th>Accident Date</th>\n",
       "      <td>265007</td>\n",
       "      <td>2020-11-23 16:22:04.873683456</td>\n",
       "      <td>2019-01-01 00:00:00</td>\n",
       "      <td>2019-12-03 00:00:00</td>\n",
       "      <td>2020-11-07 00:00:00</td>\n",
       "      <td>2021-11-07 00:00:00</td>\n",
       "      <td>2022-12-12 00:00:00</td>\n",
       "      <td>NaN</td>\n",
       "    </tr>\n",
       "    <tr>\n",
       "      <th>Latitude</th>\n",
       "      <td>660654.0</td>\n",
       "      <td>52.553866</td>\n",
       "      <td>49.91443</td>\n",
       "      <td>51.49069</td>\n",
       "      <td>52.315641</td>\n",
       "      <td>53.453452</td>\n",
       "      <td>60.757544</td>\n",
       "      <td>1.406922</td>\n",
       "    </tr>\n",
       "    <tr>\n",
       "      <th>Longitude</th>\n",
       "      <td>660653.0</td>\n",
       "      <td>-1.43121</td>\n",
       "      <td>-7.516225</td>\n",
       "      <td>-2.332291</td>\n",
       "      <td>-1.411667</td>\n",
       "      <td>-0.232869</td>\n",
       "      <td>1.76201</td>\n",
       "      <td>1.38333</td>\n",
       "    </tr>\n",
       "    <tr>\n",
       "      <th>Number_of_Casualties</th>\n",
       "      <td>660679.0</td>\n",
       "      <td>1.35704</td>\n",
       "      <td>1.0</td>\n",
       "      <td>1.0</td>\n",
       "      <td>1.0</td>\n",
       "      <td>1.0</td>\n",
       "      <td>68.0</td>\n",
       "      <td>0.824847</td>\n",
       "    </tr>\n",
       "    <tr>\n",
       "      <th>Number_of_Vehicles</th>\n",
       "      <td>660679.0</td>\n",
       "      <td>1.831255</td>\n",
       "      <td>1.0</td>\n",
       "      <td>1.0</td>\n",
       "      <td>2.0</td>\n",
       "      <td>2.0</td>\n",
       "      <td>32.0</td>\n",
       "      <td>0.715269</td>\n",
       "    </tr>\n",
       "    <tr>\n",
       "      <th>Year</th>\n",
       "      <td>265007.0</td>\n",
       "      <td>2020.407216</td>\n",
       "      <td>2019.0</td>\n",
       "      <td>2019.0</td>\n",
       "      <td>2020.0</td>\n",
       "      <td>2021.0</td>\n",
       "      <td>2022.0</td>\n",
       "      <td>1.101126</td>\n",
       "    </tr>\n",
       "    <tr>\n",
       "      <th>Month</th>\n",
       "      <td>265007.0</td>\n",
       "      <td>6.708374</td>\n",
       "      <td>1.0</td>\n",
       "      <td>4.0</td>\n",
       "      <td>7.0</td>\n",
       "      <td>10.0</td>\n",
       "      <td>12.0</td>\n",
       "      <td>3.445617</td>\n",
       "    </tr>\n",
       "    <tr>\n",
       "      <th>Day</th>\n",
       "      <td>265007.0</td>\n",
       "      <td>6.522028</td>\n",
       "      <td>1.0</td>\n",
       "      <td>4.0</td>\n",
       "      <td>7.0</td>\n",
       "      <td>10.0</td>\n",
       "      <td>12.0</td>\n",
       "      <td>3.467063</td>\n",
       "    </tr>\n",
       "  </tbody>\n",
       "</table>\n",
       "</div>"
      ],
      "text/plain": [
       "                         count                           mean  \\\n",
       "Accident Date           265007  2020-11-23 16:22:04.873683456   \n",
       "Latitude              660654.0                      52.553866   \n",
       "Longitude             660653.0                       -1.43121   \n",
       "Number_of_Casualties  660679.0                        1.35704   \n",
       "Number_of_Vehicles    660679.0                       1.831255   \n",
       "Year                  265007.0                    2020.407216   \n",
       "Month                 265007.0                       6.708374   \n",
       "Day                   265007.0                       6.522028   \n",
       "\n",
       "                                      min                  25%  \\\n",
       "Accident Date         2019-01-01 00:00:00  2019-12-03 00:00:00   \n",
       "Latitude                         49.91443             51.49069   \n",
       "Longitude                       -7.516225            -2.332291   \n",
       "Number_of_Casualties                  1.0                  1.0   \n",
       "Number_of_Vehicles                    1.0                  1.0   \n",
       "Year                               2019.0               2019.0   \n",
       "Month                                 1.0                  4.0   \n",
       "Day                                   1.0                  4.0   \n",
       "\n",
       "                                      50%                  75%  \\\n",
       "Accident Date         2020-11-07 00:00:00  2021-11-07 00:00:00   \n",
       "Latitude                        52.315641            53.453452   \n",
       "Longitude                       -1.411667            -0.232869   \n",
       "Number_of_Casualties                  1.0                  1.0   \n",
       "Number_of_Vehicles                    2.0                  2.0   \n",
       "Year                               2020.0               2021.0   \n",
       "Month                                 7.0                 10.0   \n",
       "Day                                   7.0                 10.0   \n",
       "\n",
       "                                      max       std  \n",
       "Accident Date         2022-12-12 00:00:00       NaN  \n",
       "Latitude                        60.757544  1.406922  \n",
       "Longitude                         1.76201   1.38333  \n",
       "Number_of_Casualties                 68.0  0.824847  \n",
       "Number_of_Vehicles                   32.0  0.715269  \n",
       "Year                               2022.0  1.101126  \n",
       "Month                                12.0  3.445617  \n",
       "Day                                  12.0  3.467063  "
      ]
     },
     "execution_count": 7,
     "metadata": {},
     "output_type": "execute_result"
    }
   ],
   "source": [
    "accidents.describe().T"
   ]
  },
  {
   "cell_type": "markdown",
   "id": "c4c8dd4e-1a67-451d-a50d-eb2a80de6b6b",
   "metadata": {},
   "source": [
    "<h3> Cleaning the Data Frame </h3>"
   ]
  },
  {
   "cell_type": "code",
   "execution_count": 8,
   "id": "03adea61-da18-4617-89d2-699379657e23",
   "metadata": {},
   "outputs": [
    {
     "data": {
      "text/html": [
       "<div>\n",
       "<style scoped>\n",
       "    .dataframe tbody tr th:only-of-type {\n",
       "        vertical-align: middle;\n",
       "    }\n",
       "\n",
       "    .dataframe tbody tr th {\n",
       "        vertical-align: top;\n",
       "    }\n",
       "\n",
       "    .dataframe thead th {\n",
       "        text-align: right;\n",
       "    }\n",
       "</style>\n",
       "<table border=\"1\" class=\"dataframe\">\n",
       "  <thead>\n",
       "    <tr style=\"text-align: right;\">\n",
       "      <th></th>\n",
       "      <th>Index</th>\n",
       "      <th>Accident_Severity</th>\n",
       "      <th>Accident Date</th>\n",
       "      <th>Latitude</th>\n",
       "      <th>Light_Conditions</th>\n",
       "      <th>District Area</th>\n",
       "      <th>Longitude</th>\n",
       "      <th>Number_of_Casualties</th>\n",
       "      <th>Number_of_Vehicles</th>\n",
       "      <th>Road_Surface_Conditions</th>\n",
       "      <th>Road_Type</th>\n",
       "      <th>Urban_or_Rural_Area</th>\n",
       "      <th>Weather_Conditions</th>\n",
       "      <th>Vehicle_Type</th>\n",
       "      <th>Year</th>\n",
       "      <th>Month</th>\n",
       "      <th>Day</th>\n",
       "      <th>DayOfWeek</th>\n",
       "      <th>Quarter</th>\n",
       "    </tr>\n",
       "  </thead>\n",
       "  <tbody>\n",
       "    <tr>\n",
       "      <th>0</th>\n",
       "      <td>False</td>\n",
       "      <td>False</td>\n",
       "      <td>False</td>\n",
       "      <td>False</td>\n",
       "      <td>False</td>\n",
       "      <td>False</td>\n",
       "      <td>False</td>\n",
       "      <td>False</td>\n",
       "      <td>False</td>\n",
       "      <td>False</td>\n",
       "      <td>False</td>\n",
       "      <td>False</td>\n",
       "      <td>False</td>\n",
       "      <td>False</td>\n",
       "      <td>False</td>\n",
       "      <td>False</td>\n",
       "      <td>False</td>\n",
       "      <td>False</td>\n",
       "      <td>False</td>\n",
       "    </tr>\n",
       "    <tr>\n",
       "      <th>1</th>\n",
       "      <td>False</td>\n",
       "      <td>False</td>\n",
       "      <td>False</td>\n",
       "      <td>False</td>\n",
       "      <td>False</td>\n",
       "      <td>False</td>\n",
       "      <td>False</td>\n",
       "      <td>False</td>\n",
       "      <td>False</td>\n",
       "      <td>False</td>\n",
       "      <td>False</td>\n",
       "      <td>False</td>\n",
       "      <td>False</td>\n",
       "      <td>False</td>\n",
       "      <td>False</td>\n",
       "      <td>False</td>\n",
       "      <td>False</td>\n",
       "      <td>False</td>\n",
       "      <td>False</td>\n",
       "    </tr>\n",
       "    <tr>\n",
       "      <th>2</th>\n",
       "      <td>False</td>\n",
       "      <td>False</td>\n",
       "      <td>True</td>\n",
       "      <td>False</td>\n",
       "      <td>False</td>\n",
       "      <td>False</td>\n",
       "      <td>False</td>\n",
       "      <td>False</td>\n",
       "      <td>False</td>\n",
       "      <td>False</td>\n",
       "      <td>True</td>\n",
       "      <td>False</td>\n",
       "      <td>True</td>\n",
       "      <td>False</td>\n",
       "      <td>True</td>\n",
       "      <td>True</td>\n",
       "      <td>True</td>\n",
       "      <td>True</td>\n",
       "      <td>True</td>\n",
       "    </tr>\n",
       "    <tr>\n",
       "      <th>3</th>\n",
       "      <td>False</td>\n",
       "      <td>False</td>\n",
       "      <td>True</td>\n",
       "      <td>False</td>\n",
       "      <td>False</td>\n",
       "      <td>False</td>\n",
       "      <td>False</td>\n",
       "      <td>False</td>\n",
       "      <td>False</td>\n",
       "      <td>False</td>\n",
       "      <td>False</td>\n",
       "      <td>False</td>\n",
       "      <td>False</td>\n",
       "      <td>False</td>\n",
       "      <td>True</td>\n",
       "      <td>True</td>\n",
       "      <td>True</td>\n",
       "      <td>True</td>\n",
       "      <td>True</td>\n",
       "    </tr>\n",
       "    <tr>\n",
       "      <th>4</th>\n",
       "      <td>False</td>\n",
       "      <td>False</td>\n",
       "      <td>False</td>\n",
       "      <td>False</td>\n",
       "      <td>False</td>\n",
       "      <td>False</td>\n",
       "      <td>False</td>\n",
       "      <td>False</td>\n",
       "      <td>False</td>\n",
       "      <td>False</td>\n",
       "      <td>True</td>\n",
       "      <td>False</td>\n",
       "      <td>True</td>\n",
       "      <td>False</td>\n",
       "      <td>False</td>\n",
       "      <td>False</td>\n",
       "      <td>False</td>\n",
       "      <td>False</td>\n",
       "      <td>False</td>\n",
       "    </tr>\n",
       "    <tr>\n",
       "      <th>...</th>\n",
       "      <td>...</td>\n",
       "      <td>...</td>\n",
       "      <td>...</td>\n",
       "      <td>...</td>\n",
       "      <td>...</td>\n",
       "      <td>...</td>\n",
       "      <td>...</td>\n",
       "      <td>...</td>\n",
       "      <td>...</td>\n",
       "      <td>...</td>\n",
       "      <td>...</td>\n",
       "      <td>...</td>\n",
       "      <td>...</td>\n",
       "      <td>...</td>\n",
       "      <td>...</td>\n",
       "      <td>...</td>\n",
       "      <td>...</td>\n",
       "      <td>...</td>\n",
       "      <td>...</td>\n",
       "    </tr>\n",
       "    <tr>\n",
       "      <th>660674</th>\n",
       "      <td>False</td>\n",
       "      <td>False</td>\n",
       "      <td>True</td>\n",
       "      <td>False</td>\n",
       "      <td>False</td>\n",
       "      <td>False</td>\n",
       "      <td>False</td>\n",
       "      <td>False</td>\n",
       "      <td>False</td>\n",
       "      <td>False</td>\n",
       "      <td>False</td>\n",
       "      <td>False</td>\n",
       "      <td>False</td>\n",
       "      <td>False</td>\n",
       "      <td>True</td>\n",
       "      <td>True</td>\n",
       "      <td>True</td>\n",
       "      <td>True</td>\n",
       "      <td>True</td>\n",
       "    </tr>\n",
       "    <tr>\n",
       "      <th>660675</th>\n",
       "      <td>False</td>\n",
       "      <td>False</td>\n",
       "      <td>True</td>\n",
       "      <td>False</td>\n",
       "      <td>False</td>\n",
       "      <td>False</td>\n",
       "      <td>False</td>\n",
       "      <td>False</td>\n",
       "      <td>False</td>\n",
       "      <td>False</td>\n",
       "      <td>False</td>\n",
       "      <td>False</td>\n",
       "      <td>False</td>\n",
       "      <td>False</td>\n",
       "      <td>True</td>\n",
       "      <td>True</td>\n",
       "      <td>True</td>\n",
       "      <td>True</td>\n",
       "      <td>True</td>\n",
       "    </tr>\n",
       "    <tr>\n",
       "      <th>660676</th>\n",
       "      <td>False</td>\n",
       "      <td>False</td>\n",
       "      <td>True</td>\n",
       "      <td>False</td>\n",
       "      <td>False</td>\n",
       "      <td>False</td>\n",
       "      <td>False</td>\n",
       "      <td>False</td>\n",
       "      <td>False</td>\n",
       "      <td>False</td>\n",
       "      <td>False</td>\n",
       "      <td>False</td>\n",
       "      <td>False</td>\n",
       "      <td>False</td>\n",
       "      <td>True</td>\n",
       "      <td>True</td>\n",
       "      <td>True</td>\n",
       "      <td>True</td>\n",
       "      <td>True</td>\n",
       "    </tr>\n",
       "    <tr>\n",
       "      <th>660677</th>\n",
       "      <td>False</td>\n",
       "      <td>False</td>\n",
       "      <td>True</td>\n",
       "      <td>False</td>\n",
       "      <td>False</td>\n",
       "      <td>False</td>\n",
       "      <td>False</td>\n",
       "      <td>False</td>\n",
       "      <td>False</td>\n",
       "      <td>False</td>\n",
       "      <td>False</td>\n",
       "      <td>False</td>\n",
       "      <td>False</td>\n",
       "      <td>False</td>\n",
       "      <td>True</td>\n",
       "      <td>True</td>\n",
       "      <td>True</td>\n",
       "      <td>True</td>\n",
       "      <td>True</td>\n",
       "    </tr>\n",
       "    <tr>\n",
       "      <th>660678</th>\n",
       "      <td>False</td>\n",
       "      <td>False</td>\n",
       "      <td>True</td>\n",
       "      <td>False</td>\n",
       "      <td>False</td>\n",
       "      <td>False</td>\n",
       "      <td>False</td>\n",
       "      <td>False</td>\n",
       "      <td>False</td>\n",
       "      <td>False</td>\n",
       "      <td>False</td>\n",
       "      <td>False</td>\n",
       "      <td>False</td>\n",
       "      <td>False</td>\n",
       "      <td>True</td>\n",
       "      <td>True</td>\n",
       "      <td>True</td>\n",
       "      <td>True</td>\n",
       "      <td>True</td>\n",
       "    </tr>\n",
       "  </tbody>\n",
       "</table>\n",
       "<p>660679 rows × 19 columns</p>\n",
       "</div>"
      ],
      "text/plain": [
       "        Index  Accident_Severity  Accident Date  Latitude  Light_Conditions  \\\n",
       "0       False              False          False     False             False   \n",
       "1       False              False          False     False             False   \n",
       "2       False              False           True     False             False   \n",
       "3       False              False           True     False             False   \n",
       "4       False              False          False     False             False   \n",
       "...       ...                ...            ...       ...               ...   \n",
       "660674  False              False           True     False             False   \n",
       "660675  False              False           True     False             False   \n",
       "660676  False              False           True     False             False   \n",
       "660677  False              False           True     False             False   \n",
       "660678  False              False           True     False             False   \n",
       "\n",
       "        District Area  Longitude  Number_of_Casualties  Number_of_Vehicles  \\\n",
       "0               False      False                 False               False   \n",
       "1               False      False                 False               False   \n",
       "2               False      False                 False               False   \n",
       "3               False      False                 False               False   \n",
       "4               False      False                 False               False   \n",
       "...               ...        ...                   ...                 ...   \n",
       "660674          False      False                 False               False   \n",
       "660675          False      False                 False               False   \n",
       "660676          False      False                 False               False   \n",
       "660677          False      False                 False               False   \n",
       "660678          False      False                 False               False   \n",
       "\n",
       "        Road_Surface_Conditions  Road_Type  Urban_or_Rural_Area  \\\n",
       "0                         False      False                False   \n",
       "1                         False      False                False   \n",
       "2                         False       True                False   \n",
       "3                         False      False                False   \n",
       "4                         False       True                False   \n",
       "...                         ...        ...                  ...   \n",
       "660674                    False      False                False   \n",
       "660675                    False      False                False   \n",
       "660676                    False      False                False   \n",
       "660677                    False      False                False   \n",
       "660678                    False      False                False   \n",
       "\n",
       "        Weather_Conditions  Vehicle_Type   Year  Month    Day  DayOfWeek  \\\n",
       "0                    False         False  False  False  False      False   \n",
       "1                    False         False  False  False  False      False   \n",
       "2                     True         False   True   True   True       True   \n",
       "3                    False         False   True   True   True       True   \n",
       "4                     True         False  False  False  False      False   \n",
       "...                    ...           ...    ...    ...    ...        ...   \n",
       "660674               False         False   True   True   True       True   \n",
       "660675               False         False   True   True   True       True   \n",
       "660676               False         False   True   True   True       True   \n",
       "660677               False         False   True   True   True       True   \n",
       "660678               False         False   True   True   True       True   \n",
       "\n",
       "        Quarter  \n",
       "0         False  \n",
       "1         False  \n",
       "2          True  \n",
       "3          True  \n",
       "4         False  \n",
       "...         ...  \n",
       "660674     True  \n",
       "660675     True  \n",
       "660676     True  \n",
       "660677     True  \n",
       "660678     True  \n",
       "\n",
       "[660679 rows x 19 columns]"
      ]
     },
     "execution_count": 8,
     "metadata": {},
     "output_type": "execute_result"
    }
   ],
   "source": [
    "accidents.isnull()"
   ]
  },
  {
   "cell_type": "code",
   "execution_count": 9,
   "id": "516a4cf7-ba89-4e9e-be20-3d6fe7386ff6",
   "metadata": {},
   "outputs": [
    {
     "data": {
      "text/plain": [
       "<bound method DataFrame.sum of         Index  Accident_Severity  Accident Date  Latitude  Light_Conditions  \\\n",
       "0       False              False          False     False             False   \n",
       "1       False              False          False     False             False   \n",
       "2       False              False           True     False             False   \n",
       "3       False              False           True     False             False   \n",
       "4       False              False          False     False             False   \n",
       "...       ...                ...            ...       ...               ...   \n",
       "660674  False              False           True     False             False   \n",
       "660675  False              False           True     False             False   \n",
       "660676  False              False           True     False             False   \n",
       "660677  False              False           True     False             False   \n",
       "660678  False              False           True     False             False   \n",
       "\n",
       "        District Area  Longitude  Number_of_Casualties  Number_of_Vehicles  \\\n",
       "0               False      False                 False               False   \n",
       "1               False      False                 False               False   \n",
       "2               False      False                 False               False   \n",
       "3               False      False                 False               False   \n",
       "4               False      False                 False               False   \n",
       "...               ...        ...                   ...                 ...   \n",
       "660674          False      False                 False               False   \n",
       "660675          False      False                 False               False   \n",
       "660676          False      False                 False               False   \n",
       "660677          False      False                 False               False   \n",
       "660678          False      False                 False               False   \n",
       "\n",
       "        Road_Surface_Conditions  Road_Type  Urban_or_Rural_Area  \\\n",
       "0                         False      False                False   \n",
       "1                         False      False                False   \n",
       "2                         False       True                False   \n",
       "3                         False      False                False   \n",
       "4                         False       True                False   \n",
       "...                         ...        ...                  ...   \n",
       "660674                    False      False                False   \n",
       "660675                    False      False                False   \n",
       "660676                    False      False                False   \n",
       "660677                    False      False                False   \n",
       "660678                    False      False                False   \n",
       "\n",
       "        Weather_Conditions  Vehicle_Type   Year  Month    Day  DayOfWeek  \\\n",
       "0                    False         False  False  False  False      False   \n",
       "1                    False         False  False  False  False      False   \n",
       "2                     True         False   True   True   True       True   \n",
       "3                    False         False   True   True   True       True   \n",
       "4                     True         False  False  False  False      False   \n",
       "...                    ...           ...    ...    ...    ...        ...   \n",
       "660674               False         False   True   True   True       True   \n",
       "660675               False         False   True   True   True       True   \n",
       "660676               False         False   True   True   True       True   \n",
       "660677               False         False   True   True   True       True   \n",
       "660678               False         False   True   True   True       True   \n",
       "\n",
       "        Quarter  \n",
       "0         False  \n",
       "1         False  \n",
       "2          True  \n",
       "3          True  \n",
       "4         False  \n",
       "...         ...  \n",
       "660674     True  \n",
       "660675     True  \n",
       "660676     True  \n",
       "660677     True  \n",
       "660678     True  \n",
       "\n",
       "[660679 rows x 19 columns]>"
      ]
     },
     "execution_count": 9,
     "metadata": {},
     "output_type": "execute_result"
    }
   ],
   "source": [
    "accidents.isnull().sum"
   ]
  },
  {
   "cell_type": "markdown",
   "id": "5c5b63e2-608f-401a-be35-029d2baf1a2c",
   "metadata": {},
   "source": [
    "<h3> Syntax\n",
    "\n",
    "Data Frame ('column name') </h3>"
   ]
  },
  {
   "cell_type": "code",
   "execution_count": 10,
   "id": "449060d7-1b60-4844-af48-34a6c1be98ee",
   "metadata": {},
   "outputs": [
    {
     "data": {
      "text/plain": [
       "0         False\n",
       "1         False\n",
       "2         False\n",
       "3         False\n",
       "4          True\n",
       "          ...  \n",
       "660674     True\n",
       "660675     True\n",
       "660676     True\n",
       "660677    False\n",
       "660678    False\n",
       "Name: Accident_Severity, Length: 660679, dtype: bool"
      ]
     },
     "execution_count": 10,
     "metadata": {},
     "output_type": "execute_result"
    }
   ],
   "source": [
    "accidents['Accident_Severity'] == 'Slight'"
   ]
  },
  {
   "cell_type": "code",
   "execution_count": 11,
   "id": "41276510-4e3d-4f20-a2a8-25e62f4bb5ef",
   "metadata": {},
   "outputs": [
    {
     "data": {
      "text/plain": [
       "0          True\n",
       "1          True\n",
       "2          True\n",
       "3          True\n",
       "4         False\n",
       "          ...  \n",
       "660674    False\n",
       "660675    False\n",
       "660676    False\n",
       "660677     True\n",
       "660678     True\n",
       "Name: Accident_Severity, Length: 660679, dtype: bool"
      ]
     },
     "execution_count": 11,
     "metadata": {},
     "output_type": "execute_result"
    }
   ],
   "source": [
    "accidents['Accident_Severity'] == 'Serious'"
   ]
  },
  {
   "cell_type": "code",
   "execution_count": 12,
   "id": "349052b8-dfde-42a0-9994-4a61f50946b6",
   "metadata": {},
   "outputs": [
    {
     "data": {
      "text/plain": [
       "0          True\n",
       "1          True\n",
       "2          True\n",
       "3          True\n",
       "4          True\n",
       "          ...  \n",
       "660674    False\n",
       "660675    False\n",
       "660676    False\n",
       "660677    False\n",
       "660678    False\n",
       "Name: District Area, Length: 660679, dtype: bool"
      ]
     },
     "execution_count": 12,
     "metadata": {},
     "output_type": "execute_result"
    }
   ],
   "source": [
    "accidents['District Area'] == 'Kensington and Chelsea'"
   ]
  },
  {
   "cell_type": "code",
   "execution_count": 13,
   "id": "fd37fabc-0cb8-42f3-b931-772dc95f253d",
   "metadata": {},
   "outputs": [
    {
     "data": {
      "text/plain": [
       "0         False\n",
       "1         False\n",
       "2         False\n",
       "3         False\n",
       "4         False\n",
       "          ...  \n",
       "660674     True\n",
       "660675     True\n",
       "660676     True\n",
       "660677     True\n",
       "660678     True\n",
       "Name: District Area, Length: 660679, dtype: bool"
      ]
     },
     "execution_count": 13,
     "metadata": {},
     "output_type": "execute_result"
    }
   ],
   "source": [
    "accidents['District Area'] == 'Highland'"
   ]
  },
  {
   "cell_type": "markdown",
   "id": "2c2f5764-bfdd-4ce5-8fdc-1d7827a6fb20",
   "metadata": {},
   "source": [
    "<h3> How to Change the Data Type of a Column </h3>"
   ]
  },
  {
   "cell_type": "code",
   "execution_count": 14,
   "id": "174e4447-448f-492b-a2ed-3ce075743961",
   "metadata": {},
   "outputs": [
    {
     "name": "stdout",
     "output_type": "stream",
     "text": [
      "<class 'pandas.core.frame.DataFrame'>\n",
      "RangeIndex: 660679 entries, 0 to 660678\n",
      "Data columns (total 19 columns):\n",
      " #   Column                   Non-Null Count   Dtype         \n",
      "---  ------                   --------------   -----         \n",
      " 0   Index                    660679 non-null  object        \n",
      " 1   Accident_Severity        660679 non-null  object        \n",
      " 2   Accident Date            265007 non-null  datetime64[ns]\n",
      " 3   Latitude                 660654 non-null  float64       \n",
      " 4   Light_Conditions         660679 non-null  object        \n",
      " 5   District Area            660679 non-null  object        \n",
      " 6   Longitude                660653 non-null  float64       \n",
      " 7   Number_of_Casualties     660679 non-null  int64         \n",
      " 8   Number_of_Vehicles       660679 non-null  int64         \n",
      " 9   Road_Surface_Conditions  659953 non-null  object        \n",
      " 10  Road_Type                656159 non-null  object        \n",
      " 11  Urban_or_Rural_Area      660664 non-null  object        \n",
      " 12  Weather_Conditions       646551 non-null  object        \n",
      " 13  Vehicle_Type             660679 non-null  object        \n",
      " 14  Year                     265007 non-null  float64       \n",
      " 15  Month                    265007 non-null  float64       \n",
      " 16  Day                      265007 non-null  float64       \n",
      " 17  DayOfWeek                265007 non-null  object        \n",
      " 18  Quarter                  265007 non-null  period[Q-DEC] \n",
      "dtypes: datetime64[ns](1), float64(5), int64(2), object(10), period[Q-DEC](1)\n",
      "memory usage: 95.8+ MB\n"
     ]
    }
   ],
   "source": [
    "accidents.info()"
   ]
  },
  {
   "cell_type": "code",
   "execution_count": 15,
   "id": "985ae312-352a-40cb-a58b-65392d1f1842",
   "metadata": {},
   "outputs": [],
   "source": [
    "accidents['Index'] = accidents['Index'].astype('category')\n",
    "accidents['Vehicle_Type'] = accidents['Vehicle_Type'].astype('category')"
   ]
  },
  {
   "cell_type": "code",
   "execution_count": 16,
   "id": "f5b45d5b-6619-4c64-861c-664d2e95f723",
   "metadata": {},
   "outputs": [
    {
     "name": "stdout",
     "output_type": "stream",
     "text": [
      "<class 'pandas.core.frame.DataFrame'>\n",
      "RangeIndex: 660679 entries, 0 to 660678\n",
      "Data columns (total 19 columns):\n",
      " #   Column                   Non-Null Count   Dtype         \n",
      "---  ------                   --------------   -----         \n",
      " 0   Index                    660679 non-null  category      \n",
      " 1   Accident_Severity        660679 non-null  object        \n",
      " 2   Accident Date            265007 non-null  datetime64[ns]\n",
      " 3   Latitude                 660654 non-null  float64       \n",
      " 4   Light_Conditions         660679 non-null  object        \n",
      " 5   District Area            660679 non-null  object        \n",
      " 6   Longitude                660653 non-null  float64       \n",
      " 7   Number_of_Casualties     660679 non-null  int64         \n",
      " 8   Number_of_Vehicles       660679 non-null  int64         \n",
      " 9   Road_Surface_Conditions  659953 non-null  object        \n",
      " 10  Road_Type                656159 non-null  object        \n",
      " 11  Urban_or_Rural_Area      660664 non-null  object        \n",
      " 12  Weather_Conditions       646551 non-null  object        \n",
      " 13  Vehicle_Type             660679 non-null  category      \n",
      " 14  Year                     265007 non-null  float64       \n",
      " 15  Month                    265007 non-null  float64       \n",
      " 16  Day                      265007 non-null  float64       \n",
      " 17  DayOfWeek                265007 non-null  object        \n",
      " 18  Quarter                  265007 non-null  period[Q-DEC] \n",
      "dtypes: category(2), datetime64[ns](1), float64(5), int64(2), object(8), period[Q-DEC](1)\n",
      "memory usage: 108.2+ MB\n"
     ]
    }
   ],
   "source": [
    "accidents.info()"
   ]
  },
  {
   "cell_type": "code",
   "execution_count": 17,
   "id": "fd73ab7e-31cb-4447-bd61-5b0de423d560",
   "metadata": {},
   "outputs": [
    {
     "data": {
      "text/html": [
       "<div>\n",
       "<style scoped>\n",
       "    .dataframe tbody tr th:only-of-type {\n",
       "        vertical-align: middle;\n",
       "    }\n",
       "\n",
       "    .dataframe tbody tr th {\n",
       "        vertical-align: top;\n",
       "    }\n",
       "\n",
       "    .dataframe thead th {\n",
       "        text-align: right;\n",
       "    }\n",
       "</style>\n",
       "<table border=\"1\" class=\"dataframe\">\n",
       "  <thead>\n",
       "    <tr style=\"text-align: right;\">\n",
       "      <th></th>\n",
       "      <th>Accident Date</th>\n",
       "      <th>Latitude</th>\n",
       "      <th>Longitude</th>\n",
       "      <th>Number_of_Casualties</th>\n",
       "      <th>Number_of_Vehicles</th>\n",
       "      <th>Year</th>\n",
       "      <th>Month</th>\n",
       "      <th>Day</th>\n",
       "    </tr>\n",
       "  </thead>\n",
       "  <tbody>\n",
       "    <tr>\n",
       "      <th>count</th>\n",
       "      <td>265007</td>\n",
       "      <td>660654.000000</td>\n",
       "      <td>660653.000000</td>\n",
       "      <td>660679.000000</td>\n",
       "      <td>660679.000000</td>\n",
       "      <td>265007.000000</td>\n",
       "      <td>265007.000000</td>\n",
       "      <td>265007.000000</td>\n",
       "    </tr>\n",
       "    <tr>\n",
       "      <th>mean</th>\n",
       "      <td>2020-11-23 16:22:04.873683456</td>\n",
       "      <td>52.553866</td>\n",
       "      <td>-1.431210</td>\n",
       "      <td>1.357040</td>\n",
       "      <td>1.831255</td>\n",
       "      <td>2020.407216</td>\n",
       "      <td>6.708374</td>\n",
       "      <td>6.522028</td>\n",
       "    </tr>\n",
       "    <tr>\n",
       "      <th>min</th>\n",
       "      <td>2019-01-01 00:00:00</td>\n",
       "      <td>49.914430</td>\n",
       "      <td>-7.516225</td>\n",
       "      <td>1.000000</td>\n",
       "      <td>1.000000</td>\n",
       "      <td>2019.000000</td>\n",
       "      <td>1.000000</td>\n",
       "      <td>1.000000</td>\n",
       "    </tr>\n",
       "    <tr>\n",
       "      <th>25%</th>\n",
       "      <td>2019-12-03 00:00:00</td>\n",
       "      <td>51.490690</td>\n",
       "      <td>-2.332291</td>\n",
       "      <td>1.000000</td>\n",
       "      <td>1.000000</td>\n",
       "      <td>2019.000000</td>\n",
       "      <td>4.000000</td>\n",
       "      <td>4.000000</td>\n",
       "    </tr>\n",
       "    <tr>\n",
       "      <th>50%</th>\n",
       "      <td>2020-11-07 00:00:00</td>\n",
       "      <td>52.315641</td>\n",
       "      <td>-1.411667</td>\n",
       "      <td>1.000000</td>\n",
       "      <td>2.000000</td>\n",
       "      <td>2020.000000</td>\n",
       "      <td>7.000000</td>\n",
       "      <td>7.000000</td>\n",
       "    </tr>\n",
       "    <tr>\n",
       "      <th>75%</th>\n",
       "      <td>2021-11-07 00:00:00</td>\n",
       "      <td>53.453452</td>\n",
       "      <td>-0.232869</td>\n",
       "      <td>1.000000</td>\n",
       "      <td>2.000000</td>\n",
       "      <td>2021.000000</td>\n",
       "      <td>10.000000</td>\n",
       "      <td>10.000000</td>\n",
       "    </tr>\n",
       "    <tr>\n",
       "      <th>max</th>\n",
       "      <td>2022-12-12 00:00:00</td>\n",
       "      <td>60.757544</td>\n",
       "      <td>1.762010</td>\n",
       "      <td>68.000000</td>\n",
       "      <td>32.000000</td>\n",
       "      <td>2022.000000</td>\n",
       "      <td>12.000000</td>\n",
       "      <td>12.000000</td>\n",
       "    </tr>\n",
       "    <tr>\n",
       "      <th>std</th>\n",
       "      <td>NaN</td>\n",
       "      <td>1.406922</td>\n",
       "      <td>1.383330</td>\n",
       "      <td>0.824847</td>\n",
       "      <td>0.715269</td>\n",
       "      <td>1.101126</td>\n",
       "      <td>3.445617</td>\n",
       "      <td>3.467063</td>\n",
       "    </tr>\n",
       "  </tbody>\n",
       "</table>\n",
       "</div>"
      ],
      "text/plain": [
       "                       Accident Date       Latitude      Longitude  \\\n",
       "count                         265007  660654.000000  660653.000000   \n",
       "mean   2020-11-23 16:22:04.873683456      52.553866      -1.431210   \n",
       "min              2019-01-01 00:00:00      49.914430      -7.516225   \n",
       "25%              2019-12-03 00:00:00      51.490690      -2.332291   \n",
       "50%              2020-11-07 00:00:00      52.315641      -1.411667   \n",
       "75%              2021-11-07 00:00:00      53.453452      -0.232869   \n",
       "max              2022-12-12 00:00:00      60.757544       1.762010   \n",
       "std                              NaN       1.406922       1.383330   \n",
       "\n",
       "       Number_of_Casualties  Number_of_Vehicles           Year          Month  \\\n",
       "count         660679.000000       660679.000000  265007.000000  265007.000000   \n",
       "mean               1.357040            1.831255    2020.407216       6.708374   \n",
       "min                1.000000            1.000000    2019.000000       1.000000   \n",
       "25%                1.000000            1.000000    2019.000000       4.000000   \n",
       "50%                1.000000            2.000000    2020.000000       7.000000   \n",
       "75%                1.000000            2.000000    2021.000000      10.000000   \n",
       "max               68.000000           32.000000    2022.000000      12.000000   \n",
       "std                0.824847            0.715269       1.101126       3.445617   \n",
       "\n",
       "                 Day  \n",
       "count  265007.000000  \n",
       "mean        6.522028  \n",
       "min         1.000000  \n",
       "25%         4.000000  \n",
       "50%         7.000000  \n",
       "75%        10.000000  \n",
       "max        12.000000  \n",
       "std         3.467063  "
      ]
     },
     "execution_count": 17,
     "metadata": {},
     "output_type": "execute_result"
    }
   ],
   "source": [
    "accidents.describe()"
   ]
  },
  {
   "cell_type": "markdown",
   "id": "787c65b6-7eae-4095-ba16-6a8a422269ff",
   "metadata": {},
   "source": [
    "<h3> How to Create a Column </h3>"
   ]
  },
  {
   "cell_type": "code",
   "execution_count": 18,
   "id": "0a85e3ad-df76-433b-b003-72b7d6be584d",
   "metadata": {},
   "outputs": [
    {
     "name": "stdout",
     "output_type": "stream",
     "text": [
      "<class 'pandas.core.frame.DataFrame'>\n",
      "RangeIndex: 660679 entries, 0 to 660678\n",
      "Data columns (total 19 columns):\n",
      " #   Column                   Non-Null Count   Dtype         \n",
      "---  ------                   --------------   -----         \n",
      " 0   Index                    660679 non-null  category      \n",
      " 1   Accident_Severity        660679 non-null  object        \n",
      " 2   Accident Date            265007 non-null  datetime64[ns]\n",
      " 3   Latitude                 660654 non-null  float64       \n",
      " 4   Light_Conditions         660679 non-null  object        \n",
      " 5   District Area            660679 non-null  object        \n",
      " 6   Longitude                660653 non-null  float64       \n",
      " 7   Number_of_Casualties     660679 non-null  int64         \n",
      " 8   Number_of_Vehicles       660679 non-null  int64         \n",
      " 9   Road_Surface_Conditions  659953 non-null  object        \n",
      " 10  Road_Type                656159 non-null  object        \n",
      " 11  Urban_or_Rural_Area      660664 non-null  object        \n",
      " 12  Weather_Conditions       646551 non-null  object        \n",
      " 13  Vehicle_Type             660679 non-null  category      \n",
      " 14  Year                     265007 non-null  float64       \n",
      " 15  Month                    265007 non-null  float64       \n",
      " 16  Day                      265007 non-null  float64       \n",
      " 17  DayOfWeek                265007 non-null  object        \n",
      " 18  Quarter                  265007 non-null  period[Q-DEC] \n",
      "dtypes: category(2), datetime64[ns](1), float64(5), int64(2), object(8), period[Q-DEC](1)\n",
      "memory usage: 108.2+ MB\n"
     ]
    }
   ],
   "source": [
    "accidents.info()"
   ]
  },
  {
   "cell_type": "code",
   "execution_count": 19,
   "id": "89bbce82-70b9-403e-acf0-95e3832c8a72",
   "metadata": {},
   "outputs": [
    {
     "data": {
      "text/plain": [
       "Index(['Index', 'Accident_Severity', 'Accident Date', 'Latitude',\n",
       "       'Light_Conditions', 'District Area', 'Longitude',\n",
       "       'Number_of_Casualties', 'Number_of_Vehicles', 'Road_Surface_Conditions',\n",
       "       'Road_Type', 'Urban_or_Rural_Area', 'Weather_Conditions',\n",
       "       'Vehicle_Type', 'Year', 'Month', 'Day', 'DayOfWeek', 'Quarter'],\n",
       "      dtype='object')"
      ]
     },
     "execution_count": 19,
     "metadata": {},
     "output_type": "execute_result"
    }
   ],
   "source": [
    "accidents.columns"
   ]
  },
  {
   "cell_type": "code",
   "execution_count": 20,
   "id": "735bd9d9-dfb5-4780-80e6-5125e143c9c7",
   "metadata": {},
   "outputs": [
    {
     "data": {
      "text/html": [
       "<div>\n",
       "<style scoped>\n",
       "    .dataframe tbody tr th:only-of-type {\n",
       "        vertical-align: middle;\n",
       "    }\n",
       "\n",
       "    .dataframe tbody tr th {\n",
       "        vertical-align: top;\n",
       "    }\n",
       "\n",
       "    .dataframe thead th {\n",
       "        text-align: right;\n",
       "    }\n",
       "</style>\n",
       "<table border=\"1\" class=\"dataframe\">\n",
       "  <thead>\n",
       "    <tr style=\"text-align: right;\">\n",
       "      <th></th>\n",
       "      <th>Index</th>\n",
       "      <th>Accident_Severity</th>\n",
       "      <th>Accident Date</th>\n",
       "      <th>Latitude</th>\n",
       "      <th>Light_Conditions</th>\n",
       "      <th>District Area</th>\n",
       "      <th>Longitude</th>\n",
       "      <th>Number_of_Casualties</th>\n",
       "      <th>Number_of_Vehicles</th>\n",
       "      <th>Road_Surface_Conditions</th>\n",
       "      <th>Road_Type</th>\n",
       "      <th>Urban_or_Rural_Area</th>\n",
       "      <th>Weather_Conditions</th>\n",
       "      <th>Vehicle_Type</th>\n",
       "      <th>Year</th>\n",
       "      <th>Month</th>\n",
       "      <th>Day</th>\n",
       "      <th>DayOfWeek</th>\n",
       "      <th>Quarter</th>\n",
       "    </tr>\n",
       "  </thead>\n",
       "  <tbody>\n",
       "    <tr>\n",
       "      <th>0</th>\n",
       "      <td>200701BS64157</td>\n",
       "      <td>Serious</td>\n",
       "      <td>2019-06-05</td>\n",
       "      <td>51.506187</td>\n",
       "      <td>Darkness - lights lit</td>\n",
       "      <td>Kensington and Chelsea</td>\n",
       "      <td>-0.209082</td>\n",
       "      <td>1</td>\n",
       "      <td>2</td>\n",
       "      <td>Dry</td>\n",
       "      <td>Single carriageway</td>\n",
       "      <td>Urban</td>\n",
       "      <td>Fine no high winds</td>\n",
       "      <td>Car</td>\n",
       "      <td>2019.0</td>\n",
       "      <td>6.0</td>\n",
       "      <td>5.0</td>\n",
       "      <td>Wednesday</td>\n",
       "      <td>2019Q2</td>\n",
       "    </tr>\n",
       "    <tr>\n",
       "      <th>1</th>\n",
       "      <td>200701BS65737</td>\n",
       "      <td>Serious</td>\n",
       "      <td>2019-07-02</td>\n",
       "      <td>51.495029</td>\n",
       "      <td>Daylight</td>\n",
       "      <td>Kensington and Chelsea</td>\n",
       "      <td>-0.173647</td>\n",
       "      <td>1</td>\n",
       "      <td>2</td>\n",
       "      <td>Wet or damp</td>\n",
       "      <td>Single carriageway</td>\n",
       "      <td>Urban</td>\n",
       "      <td>Raining no high winds</td>\n",
       "      <td>Car</td>\n",
       "      <td>2019.0</td>\n",
       "      <td>7.0</td>\n",
       "      <td>2.0</td>\n",
       "      <td>Tuesday</td>\n",
       "      <td>2019Q3</td>\n",
       "    </tr>\n",
       "    <tr>\n",
       "      <th>2</th>\n",
       "      <td>200701BS66127</td>\n",
       "      <td>Serious</td>\n",
       "      <td>NaT</td>\n",
       "      <td>51.517715</td>\n",
       "      <td>Darkness - lighting unknown</td>\n",
       "      <td>Kensington and Chelsea</td>\n",
       "      <td>-0.210215</td>\n",
       "      <td>1</td>\n",
       "      <td>3</td>\n",
       "      <td>Dry</td>\n",
       "      <td>NaN</td>\n",
       "      <td>Urban</td>\n",
       "      <td>NaN</td>\n",
       "      <td>Taxi/Private hire car</td>\n",
       "      <td>NaN</td>\n",
       "      <td>NaN</td>\n",
       "      <td>NaN</td>\n",
       "      <td>NaN</td>\n",
       "      <td>NaT</td>\n",
       "    </tr>\n",
       "    <tr>\n",
       "      <th>3</th>\n",
       "      <td>200701BS66128</td>\n",
       "      <td>Serious</td>\n",
       "      <td>NaT</td>\n",
       "      <td>51.495478</td>\n",
       "      <td>Daylight</td>\n",
       "      <td>Kensington and Chelsea</td>\n",
       "      <td>-0.202731</td>\n",
       "      <td>1</td>\n",
       "      <td>4</td>\n",
       "      <td>Dry</td>\n",
       "      <td>Single carriageway</td>\n",
       "      <td>Urban</td>\n",
       "      <td>Fine no high winds</td>\n",
       "      <td>Bus or coach (17 or more pass seats)</td>\n",
       "      <td>NaN</td>\n",
       "      <td>NaN</td>\n",
       "      <td>NaN</td>\n",
       "      <td>NaN</td>\n",
       "      <td>NaT</td>\n",
       "    </tr>\n",
       "    <tr>\n",
       "      <th>4</th>\n",
       "      <td>200701BS66837</td>\n",
       "      <td>Slight</td>\n",
       "      <td>2019-09-03</td>\n",
       "      <td>51.488576</td>\n",
       "      <td>Darkness - lights lit</td>\n",
       "      <td>Kensington and Chelsea</td>\n",
       "      <td>-0.192487</td>\n",
       "      <td>1</td>\n",
       "      <td>2</td>\n",
       "      <td>Dry</td>\n",
       "      <td>NaN</td>\n",
       "      <td>Urban</td>\n",
       "      <td>NaN</td>\n",
       "      <td>Other vehicle</td>\n",
       "      <td>2019.0</td>\n",
       "      <td>9.0</td>\n",
       "      <td>3.0</td>\n",
       "      <td>Tuesday</td>\n",
       "      <td>2019Q3</td>\n",
       "    </tr>\n",
       "    <tr>\n",
       "      <th>...</th>\n",
       "      <td>...</td>\n",
       "      <td>...</td>\n",
       "      <td>...</td>\n",
       "      <td>...</td>\n",
       "      <td>...</td>\n",
       "      <td>...</td>\n",
       "      <td>...</td>\n",
       "      <td>...</td>\n",
       "      <td>...</td>\n",
       "      <td>...</td>\n",
       "      <td>...</td>\n",
       "      <td>...</td>\n",
       "      <td>...</td>\n",
       "      <td>...</td>\n",
       "      <td>...</td>\n",
       "      <td>...</td>\n",
       "      <td>...</td>\n",
       "      <td>...</td>\n",
       "      <td>...</td>\n",
       "    </tr>\n",
       "    <tr>\n",
       "      <th>660674</th>\n",
       "      <td>201091NM01760</td>\n",
       "      <td>Slight</td>\n",
       "      <td>NaT</td>\n",
       "      <td>57.374005</td>\n",
       "      <td>Daylight</td>\n",
       "      <td>Highland</td>\n",
       "      <td>-3.467828</td>\n",
       "      <td>2</td>\n",
       "      <td>1</td>\n",
       "      <td>Dry</td>\n",
       "      <td>Single carriageway</td>\n",
       "      <td>Rural</td>\n",
       "      <td>Fine no high winds</td>\n",
       "      <td>Car</td>\n",
       "      <td>NaN</td>\n",
       "      <td>NaN</td>\n",
       "      <td>NaN</td>\n",
       "      <td>NaN</td>\n",
       "      <td>NaT</td>\n",
       "    </tr>\n",
       "    <tr>\n",
       "      <th>660675</th>\n",
       "      <td>201091NM01881</td>\n",
       "      <td>Slight</td>\n",
       "      <td>NaT</td>\n",
       "      <td>57.232273</td>\n",
       "      <td>Darkness - no lighting</td>\n",
       "      <td>Highland</td>\n",
       "      <td>-3.809281</td>\n",
       "      <td>1</td>\n",
       "      <td>1</td>\n",
       "      <td>Frost or ice</td>\n",
       "      <td>Single carriageway</td>\n",
       "      <td>Rural</td>\n",
       "      <td>Fine no high winds</td>\n",
       "      <td>Car</td>\n",
       "      <td>NaN</td>\n",
       "      <td>NaN</td>\n",
       "      <td>NaN</td>\n",
       "      <td>NaN</td>\n",
       "      <td>NaT</td>\n",
       "    </tr>\n",
       "    <tr>\n",
       "      <th>660676</th>\n",
       "      <td>201091NM01935</td>\n",
       "      <td>Slight</td>\n",
       "      <td>NaT</td>\n",
       "      <td>57.585044</td>\n",
       "      <td>Daylight</td>\n",
       "      <td>Highland</td>\n",
       "      <td>-3.862727</td>\n",
       "      <td>1</td>\n",
       "      <td>3</td>\n",
       "      <td>Frost or ice</td>\n",
       "      <td>Single carriageway</td>\n",
       "      <td>Rural</td>\n",
       "      <td>Fine no high winds</td>\n",
       "      <td>Car</td>\n",
       "      <td>NaN</td>\n",
       "      <td>NaN</td>\n",
       "      <td>NaN</td>\n",
       "      <td>NaN</td>\n",
       "      <td>NaT</td>\n",
       "    </tr>\n",
       "    <tr>\n",
       "      <th>660677</th>\n",
       "      <td>201091NM01964</td>\n",
       "      <td>Serious</td>\n",
       "      <td>NaT</td>\n",
       "      <td>57.214898</td>\n",
       "      <td>Darkness - no lighting</td>\n",
       "      <td>Highland</td>\n",
       "      <td>-3.823997</td>\n",
       "      <td>1</td>\n",
       "      <td>2</td>\n",
       "      <td>Wet or damp</td>\n",
       "      <td>Single carriageway</td>\n",
       "      <td>Rural</td>\n",
       "      <td>Fine no high winds</td>\n",
       "      <td>Motorcycle over 500cc</td>\n",
       "      <td>NaN</td>\n",
       "      <td>NaN</td>\n",
       "      <td>NaN</td>\n",
       "      <td>NaN</td>\n",
       "      <td>NaT</td>\n",
       "    </tr>\n",
       "    <tr>\n",
       "      <th>660678</th>\n",
       "      <td>201091NM02142</td>\n",
       "      <td>Serious</td>\n",
       "      <td>NaT</td>\n",
       "      <td>57.575210</td>\n",
       "      <td>Daylight</td>\n",
       "      <td>Highland</td>\n",
       "      <td>-3.895673</td>\n",
       "      <td>1</td>\n",
       "      <td>1</td>\n",
       "      <td>Wet or damp</td>\n",
       "      <td>Dual carriageway</td>\n",
       "      <td>Rural</td>\n",
       "      <td>Snowing no high winds</td>\n",
       "      <td>Car</td>\n",
       "      <td>NaN</td>\n",
       "      <td>NaN</td>\n",
       "      <td>NaN</td>\n",
       "      <td>NaN</td>\n",
       "      <td>NaT</td>\n",
       "    </tr>\n",
       "  </tbody>\n",
       "</table>\n",
       "<p>660679 rows × 19 columns</p>\n",
       "</div>"
      ],
      "text/plain": [
       "                Index Accident_Severity Accident Date   Latitude  \\\n",
       "0       200701BS64157           Serious    2019-06-05  51.506187   \n",
       "1       200701BS65737           Serious    2019-07-02  51.495029   \n",
       "2       200701BS66127           Serious           NaT  51.517715   \n",
       "3       200701BS66128           Serious           NaT  51.495478   \n",
       "4       200701BS66837            Slight    2019-09-03  51.488576   \n",
       "...               ...               ...           ...        ...   \n",
       "660674  201091NM01760            Slight           NaT  57.374005   \n",
       "660675  201091NM01881            Slight           NaT  57.232273   \n",
       "660676  201091NM01935            Slight           NaT  57.585044   \n",
       "660677  201091NM01964           Serious           NaT  57.214898   \n",
       "660678  201091NM02142           Serious           NaT  57.575210   \n",
       "\n",
       "                   Light_Conditions           District Area  Longitude  \\\n",
       "0             Darkness - lights lit  Kensington and Chelsea  -0.209082   \n",
       "1                          Daylight  Kensington and Chelsea  -0.173647   \n",
       "2       Darkness - lighting unknown  Kensington and Chelsea  -0.210215   \n",
       "3                          Daylight  Kensington and Chelsea  -0.202731   \n",
       "4             Darkness - lights lit  Kensington and Chelsea  -0.192487   \n",
       "...                             ...                     ...        ...   \n",
       "660674                     Daylight                Highland  -3.467828   \n",
       "660675       Darkness - no lighting                Highland  -3.809281   \n",
       "660676                     Daylight                Highland  -3.862727   \n",
       "660677       Darkness - no lighting                Highland  -3.823997   \n",
       "660678                     Daylight                Highland  -3.895673   \n",
       "\n",
       "        Number_of_Casualties  Number_of_Vehicles Road_Surface_Conditions  \\\n",
       "0                          1                   2                     Dry   \n",
       "1                          1                   2             Wet or damp   \n",
       "2                          1                   3                     Dry   \n",
       "3                          1                   4                     Dry   \n",
       "4                          1                   2                     Dry   \n",
       "...                      ...                 ...                     ...   \n",
       "660674                     2                   1                     Dry   \n",
       "660675                     1                   1            Frost or ice   \n",
       "660676                     1                   3            Frost or ice   \n",
       "660677                     1                   2             Wet or damp   \n",
       "660678                     1                   1             Wet or damp   \n",
       "\n",
       "                 Road_Type Urban_or_Rural_Area     Weather_Conditions  \\\n",
       "0       Single carriageway               Urban     Fine no high winds   \n",
       "1       Single carriageway               Urban  Raining no high winds   \n",
       "2                      NaN               Urban                    NaN   \n",
       "3       Single carriageway               Urban     Fine no high winds   \n",
       "4                      NaN               Urban                    NaN   \n",
       "...                    ...                 ...                    ...   \n",
       "660674  Single carriageway               Rural     Fine no high winds   \n",
       "660675  Single carriageway               Rural     Fine no high winds   \n",
       "660676  Single carriageway               Rural     Fine no high winds   \n",
       "660677  Single carriageway               Rural     Fine no high winds   \n",
       "660678    Dual carriageway               Rural  Snowing no high winds   \n",
       "\n",
       "                                Vehicle_Type    Year  Month  Day  DayOfWeek  \\\n",
       "0                                        Car  2019.0    6.0  5.0  Wednesday   \n",
       "1                                        Car  2019.0    7.0  2.0    Tuesday   \n",
       "2                      Taxi/Private hire car     NaN    NaN  NaN        NaN   \n",
       "3       Bus or coach (17 or more pass seats)     NaN    NaN  NaN        NaN   \n",
       "4                              Other vehicle  2019.0    9.0  3.0    Tuesday   \n",
       "...                                      ...     ...    ...  ...        ...   \n",
       "660674                                   Car     NaN    NaN  NaN        NaN   \n",
       "660675                                   Car     NaN    NaN  NaN        NaN   \n",
       "660676                                   Car     NaN    NaN  NaN        NaN   \n",
       "660677                 Motorcycle over 500cc     NaN    NaN  NaN        NaN   \n",
       "660678                                   Car     NaN    NaN  NaN        NaN   \n",
       "\n",
       "       Quarter  \n",
       "0       2019Q2  \n",
       "1       2019Q3  \n",
       "2          NaT  \n",
       "3          NaT  \n",
       "4       2019Q3  \n",
       "...        ...  \n",
       "660674     NaT  \n",
       "660675     NaT  \n",
       "660676     NaT  \n",
       "660677     NaT  \n",
       "660678     NaT  \n",
       "\n",
       "[660679 rows x 19 columns]"
      ]
     },
     "execution_count": 20,
     "metadata": {},
     "output_type": "execute_result"
    }
   ],
   "source": [
    "accidents"
   ]
  },
  {
   "cell_type": "code",
   "execution_count": null,
   "id": "1e875c99-ca9e-4d07-af80-b354ca6e5ee2",
   "metadata": {},
   "outputs": [],
   "source": []
  },
  {
   "cell_type": "markdown",
   "id": "ce98f0a5-b34a-4f57-adca-b88ec76315a5",
   "metadata": {},
   "source": [
    "<h1> Exploratory Data Analytics (EDA) </h1>"
   ]
  },
  {
   "cell_type": "markdown",
   "id": "4c9111da-8dd9-4862-8e50-ec3aabd58967",
   "metadata": {},
   "source": [
    "<h3> 1. What is the distribution of accident severities? </h3>"
   ]
  },
  {
   "cell_type": "code",
   "execution_count": 21,
   "id": "061354b3-cd9b-4936-ae7b-0202d13c144e",
   "metadata": {},
   "outputs": [
    {
     "data": {
      "text/plain": [
       "Accident_Severity\n",
       "Slight     563801\n",
       "Serious     88217\n",
       "Fatal        8661\n",
       "Name: count, dtype: int64"
      ]
     },
     "execution_count": 21,
     "metadata": {},
     "output_type": "execute_result"
    }
   ],
   "source": [
    "accidents['Accident_Severity'].value_counts()"
   ]
  },
  {
   "cell_type": "markdown",
   "id": "247d9173-3409-4c58-bd4f-4538b8c81cbc",
   "metadata": {},
   "source": [
    "<h3> Insight #1 - Slight accidents dominate (85%/563,801), Serious are fewer, Fatal are rare. </h3>"
   ]
  },
  {
   "cell_type": "markdown",
   "id": "263620d4-7bae-49e7-a5a0-b78ac6c2de6f",
   "metadata": {},
   "source": [
    "<h3> 2. What percentage of accidents are fatal? </h3>"
   ]
  },
  {
   "cell_type": "code",
   "execution_count": 22,
   "id": "0a4957a3-81bc-4802-87ef-08289d8b999a",
   "metadata": {},
   "outputs": [
    {
     "data": {
      "text/plain": [
       "np.float64(1.31)"
      ]
     },
     "execution_count": 22,
     "metadata": {},
     "output_type": "execute_result"
    }
   ],
   "source": [
    "fatal_rate = (accidents['Accident_Severity'].value_counts(normalize=True)['Fatal']*100).round(2)\n",
    "fatal_rate"
   ]
  },
  {
   "cell_type": "markdown",
   "id": "0ac7c73b-b2b2-4f82-b1c3-1843d55c3f5f",
   "metadata": {},
   "source": [
    "<h3> Insight #2 - Around 0.6% or 1.31 of accidents are fatal. </h3>"
   ]
  },
  {
   "cell_type": "markdown",
   "id": "f6383c8c-87a5-4bc8-82c1-467aaf81fd26",
   "metadata": {},
   "source": [
    "<h3> 3. Which district has the most accidents? </h3>"
   ]
  },
  {
   "cell_type": "code",
   "execution_count": 23,
   "id": "c85c55b6-3049-438f-8960-0377226af695",
   "metadata": {},
   "outputs": [
    {
     "data": {
      "text/plain": [
       "District Area\n",
       "Birmingham          13491\n",
       "Leeds                8898\n",
       "Manchester           6720\n",
       "Bradford             6212\n",
       "Sheffield            5710\n",
       "Westminster          5706\n",
       "Liverpool            5587\n",
       "Glasgow City         4942\n",
       "Bristol, City of     4819\n",
       "Kirklees             4690\n",
       "Name: count, dtype: int64"
      ]
     },
     "execution_count": 23,
     "metadata": {},
     "output_type": "execute_result"
    }
   ],
   "source": [
    "accidents['District Area'].value_counts().head(10)"
   ]
  },
  {
   "cell_type": "markdown",
   "id": "bc66b83d-2831-4ec2-9970-579592b8b801",
   "metadata": {},
   "source": [
    "<h3> Insight #3 - Birmingham has the highest number (13,491 accidents). </h3>"
   ]
  },
  {
   "cell_type": "markdown",
   "id": "9117ec7f-2f46-4cad-8b4c-3dcb1ca1d1d7",
   "metadata": {},
   "source": [
    "<h3> 4. How many unique districts are there? </h3>"
   ]
  },
  {
   "cell_type": "code",
   "execution_count": 24,
   "id": "7b5232b7-c1b6-4713-8487-dc079e491032",
   "metadata": {},
   "outputs": [
    {
     "data": {
      "text/plain": [
       "422"
      ]
     },
     "execution_count": 24,
     "metadata": {},
     "output_type": "execute_result"
    }
   ],
   "source": [
    "accidents['District Area'].nunique()"
   ]
  },
  {
   "cell_type": "markdown",
   "id": "8a70f18b-f5b3-45c7-8776-58e2e170c869",
   "metadata": {},
   "source": [
    "<h3> Insight #4 - There are 422 districts. </h3>"
   ]
  },
  {
   "cell_type": "markdown",
   "id": "d614392a-89b8-4fc4-99d1-b242be536a3c",
   "metadata": {},
   "source": [
    "<h3> 5. What is the most common light condition during accidents? </h3>"
   ]
  },
  {
   "cell_type": "code",
   "execution_count": 25,
   "id": "44e6c7a1-b752-4301-a347-ac5eb89c9bad",
   "metadata": {},
   "outputs": [
    {
     "data": {
      "text/plain": [
       "Light_Conditions\n",
       "Daylight                       484880\n",
       "Darkness - lights lit          129335\n",
       "Darkness - no lighting          37437\n",
       "Darkness - lighting unknown      6484\n",
       "Darkness - lights unlit          2543\n",
       "Name: count, dtype: int64"
      ]
     },
     "execution_count": 25,
     "metadata": {},
     "output_type": "execute_result"
    }
   ],
   "source": [
    "accidents['Light_Conditions'].value_counts()"
   ]
  },
  {
   "cell_type": "markdown",
   "id": "a864e36a-bbb2-43e6-89e3-e57eb947e748",
   "metadata": {},
   "source": [
    "<h3> Insight #5 - Daylight (484,880 cases). </h3>"
   ]
  },
  {
   "cell_type": "markdown",
   "id": "3d848be9-0119-44bd-aa31-cc0cfcecf8c0",
   "metadata": {},
   "source": [
    "<h3> 6. How many accidents happened in Urban vs Rural areas? </h3>"
   ]
  },
  {
   "cell_type": "code",
   "execution_count": 26,
   "id": "e9bb6860-7af4-45f7-903c-13dae67b5935",
   "metadata": {},
   "outputs": [
    {
     "data": {
      "text/plain": [
       "Urban_or_Rural_Area\n",
       "Urban          421663\n",
       "Rural          238990\n",
       "Unallocated        11\n",
       "Name: count, dtype: int64"
      ]
     },
     "execution_count": 26,
     "metadata": {},
     "output_type": "execute_result"
    }
   ],
   "source": [
    "accidents['Urban_or_Rural_Area'].value_counts()"
   ]
  },
  {
   "cell_type": "markdown",
   "id": "c6df1b7a-7578-46d2-bae1-ef8f1a462675",
   "metadata": {},
   "source": [
    "<h3> Insight #6 - Most accidents occur in Urban areas (421,663). </h3>"
   ]
  },
  {
   "cell_type": "markdown",
   "id": "0ab3af33-d15c-4e26-b251-5a9ebd9a251c",
   "metadata": {},
   "source": [
    "<h3> 7. What are the top 5 vehicle types involved in accidents? </h3>"
   ]
  },
  {
   "cell_type": "code",
   "execution_count": 27,
   "id": "9c83c225-7dec-4eca-a6b3-899dc71bef81",
   "metadata": {},
   "outputs": [
    {
     "data": {
      "text/plain": [
       "Vehicle_Type\n",
       "Car                                     497992\n",
       "Van / Goods 3.5 tonnes mgw or under      34160\n",
       "Bus or coach (17 or more pass seats)     25878\n",
       "Motorcycle over 500cc                    25657\n",
       "Goods 7.5 tonnes mgw and over            17307\n",
       "Name: count, dtype: int64"
      ]
     },
     "execution_count": 27,
     "metadata": {},
     "output_type": "execute_result"
    }
   ],
   "source": [
    "accidents['Vehicle_Type'].value_counts().head(5)"
   ]
  },
  {
   "cell_type": "markdown",
   "id": "4f472535-2f15-482b-8215-b393d7e064d1",
   "metadata": {},
   "source": [
    "<h3> Insight #7 - Cars dominate (498k), followed by taxis, vans, buses, and motorcycles. </h3>"
   ]
  },
  {
   "cell_type": "markdown",
   "id": "bcca3761-7bff-49aa-9874-5cd366efbecb",
   "metadata": {},
   "source": [
    "<h3> 8. What is the average number of vehicles per accident? </h3>"
   ]
  },
  {
   "cell_type": "code",
   "execution_count": 28,
   "id": "ee2d3fca-6dc9-4be7-9193-c77f2e67a601",
   "metadata": {},
   "outputs": [
    {
     "data": {
      "text/plain": [
       "np.float64(1.8312554205597575)"
      ]
     },
     "execution_count": 28,
     "metadata": {},
     "output_type": "execute_result"
    }
   ],
   "source": [
    "accidents['Number_of_Vehicles'].mean()"
   ]
  },
  {
   "cell_type": "markdown",
   "id": "6da06e2b-3173-41a3-96f2-fa0eafd30683",
   "metadata": {},
   "source": [
    "<h3> Insight #8 - On average, 1.83 vehicles per accident. </h3>"
   ]
  },
  {
   "cell_type": "markdown",
   "id": "50a3c7ef-341d-4008-903e-3d1004f4a759",
   "metadata": {},
   "source": [
    "<h3> 9. What is the maximum number of vehicles in a single accident? </h3>"
   ]
  },
  {
   "cell_type": "code",
   "execution_count": 29,
   "id": "e63fac4f-a547-4c09-bc00-1f5278335652",
   "metadata": {},
   "outputs": [
    {
     "data": {
      "text/plain": [
       "np.int64(32)"
      ]
     },
     "execution_count": 29,
     "metadata": {},
     "output_type": "execute_result"
    }
   ],
   "source": [
    "accidents['Number_of_Vehicles'].max()"
   ]
  },
  {
   "cell_type": "markdown",
   "id": "edca56e8-eeb5-44ea-bcd9-be0c6848c80f",
   "metadata": {},
   "source": [
    "<h3> Insight #9 - The largest accident involved 32 vehicles. </h3>"
   ]
  },
  {
   "cell_type": "markdown",
   "id": "b33137de-d27a-4e26-b9f5-ff67a1601f4b",
   "metadata": {},
   "source": [
    "<h3> 10. What is the average number of casualties per accident? </h3>"
   ]
  },
  {
   "cell_type": "code",
   "execution_count": 30,
   "id": "a02152a6-b54b-402f-a5d1-9ce82f1a7ea5",
   "metadata": {},
   "outputs": [
    {
     "data": {
      "text/plain": [
       "np.float64(1.357040257068864)"
      ]
     },
     "execution_count": 30,
     "metadata": {},
     "output_type": "execute_result"
    }
   ],
   "source": [
    "accidents['Number_of_Casualties'].mean()"
   ]
  },
  {
   "cell_type": "markdown",
   "id": "dbe4552c-2786-49b7-8243-693fac6e8fc4",
   "metadata": {},
   "source": [
    "<h3> Insight #10 - About 1.36 casualties per accident. </h3>"
   ]
  },
  {
   "cell_type": "markdown",
   "id": "8c5f0a19-4b5a-4407-be25-d4e8a8f1c07b",
   "metadata": {},
   "source": [
    "<h3> 11. Which road surface condition is most common? </h3>"
   ]
  },
  {
   "cell_type": "code",
   "execution_count": 31,
   "id": "8f8bb623-e3cd-4a9b-817f-dde8bb432924",
   "metadata": {},
   "outputs": [
    {
     "data": {
      "text/plain": [
       "Road_Surface_Conditions\n",
       "Dry                     447821\n",
       "Wet or damp             186708\n",
       "Frost or ice             18517\n",
       "Snow                      5890\n",
       "Flood over 3cm. deep      1017\n",
       "Name: count, dtype: int64"
      ]
     },
     "execution_count": 31,
     "metadata": {},
     "output_type": "execute_result"
    }
   ],
   "source": [
    "accidents['Road_Surface_Conditions'].value_counts()"
   ]
  },
  {
   "cell_type": "markdown",
   "id": "273ffbab-2f99-4b60-b35f-16cda6ed957c",
   "metadata": {},
   "source": [
    "<h3> Insight #11 - Dry roads are the most common (447,821 accidents). </h3>"
   ]
  },
  {
   "cell_type": "markdown",
   "id": "18f04fe2-f9bf-4b8a-9d12-8b855f9dfe7f",
   "metadata": {},
   "source": [
    "<h3> 12. Which weather condition has the most accidents? </h3>"
   ]
  },
  {
   "cell_type": "code",
   "execution_count": 32,
   "id": "7e3e4eac-ec9b-4f46-96ba-44c8ffe14971",
   "metadata": {},
   "outputs": [
    {
     "data": {
      "text/plain": [
       "Weather_Conditions\n",
       "Fine no high winds       520885\n",
       "Raining no high winds     79696\n",
       "Other                     17150\n",
       "Raining + high winds       9615\n",
       "Fine + high winds          8554\n",
       "Snowing no high winds      6238\n",
       "Fog or mist                3528\n",
       "Snowing + high winds        885\n",
       "Name: count, dtype: int64"
      ]
     },
     "execution_count": 32,
     "metadata": {},
     "output_type": "execute_result"
    }
   ],
   "source": [
    "accidents['Weather_Conditions'].value_counts()"
   ]
  },
  {
   "cell_type": "markdown",
   "id": "0617905e-c1bb-4bf2-96e1-574f75653a88",
   "metadata": {},
   "source": [
    "<h3> Insight #12 - Fine weather with no winds (520,885). </h3>"
   ]
  },
  {
   "cell_type": "markdown",
   "id": "785fcc01-33ff-4966-b8cf-7108160da93f",
   "metadata": {},
   "source": [
    "<h3> 13. Which accident date had the highest number of accidents?? </h3>"
   ]
  },
  {
   "cell_type": "code",
   "execution_count": 33,
   "id": "46248758-92da-44b8-bdab-629c1721a2e1",
   "metadata": {},
   "outputs": [
    {
     "data": {
      "text/plain": [
       "Accident Date\n",
       "2021-02-11    685\n",
       "Name: count, dtype: int64"
      ]
     },
     "execution_count": 33,
     "metadata": {},
     "output_type": "execute_result"
    }
   ],
   "source": [
    "accidents['Accident Date'].value_counts().head(1)"
   ]
  },
  {
   "cell_type": "markdown",
   "id": "2ad01cda-0758-4c0f-b731-df12a7607665",
   "metadata": {},
   "source": [
    "<h3> Insight #13 - 30-11-2019 with 704 accidents. </h3>"
   ]
  },
  {
   "cell_type": "markdown",
   "id": "1b02334d-3e0e-4188-9eed-02700cb98fc1",
   "metadata": {},
   "source": [
    "<h3> 14. How many missing values are there per column? </h3>"
   ]
  },
  {
   "cell_type": "code",
   "execution_count": 34,
   "id": "c9565640-281f-4e5a-b482-79252a77da9a",
   "metadata": {},
   "outputs": [
    {
     "data": {
      "text/plain": [
       "Index                           0\n",
       "Accident_Severity               0\n",
       "Accident Date              395672\n",
       "Latitude                       25\n",
       "Light_Conditions                0\n",
       "District Area                   0\n",
       "Longitude                      26\n",
       "Number_of_Casualties            0\n",
       "Number_of_Vehicles              0\n",
       "Road_Surface_Conditions       726\n",
       "Road_Type                    4520\n",
       "Urban_or_Rural_Area            15\n",
       "Weather_Conditions          14128\n",
       "Vehicle_Type                    0\n",
       "Year                       395672\n",
       "Month                      395672\n",
       "Day                        395672\n",
       "DayOfWeek                  395672\n",
       "Quarter                    395672\n",
       "dtype: int64"
      ]
     },
     "execution_count": 34,
     "metadata": {},
     "output_type": "execute_result"
    }
   ],
   "source": [
    "accidents.isnull().sum()"
   ]
  },
  {
   "cell_type": "markdown",
   "id": "22e3778b-ee2e-40b0-bdd9-59f1ddbb3117",
   "metadata": {},
   "source": [
    "<h3> Insight #14 - Weather (14,128), Road Type (4,520), Road Surface (726), Lat/Long (25–26). </h3>"
   ]
  },
  {
   "cell_type": "markdown",
   "id": "e5a74311-8c32-4320-9856-32f4935c56ee",
   "metadata": {},
   "source": [
    "<h3> 15. What are the latitude and longitude ranges? </h3>"
   ]
  },
  {
   "cell_type": "code",
   "execution_count": 35,
   "id": "825ef3f3-6d16-45d7-a8f9-651768fd0f50",
   "metadata": {},
   "outputs": [
    {
     "data": {
      "text/plain": [
       "(np.float64(49.91443),\n",
       " np.float64(60.757544),\n",
       " np.float64(-7.516225),\n",
       " np.float64(1.76201))"
      ]
     },
     "execution_count": 35,
     "metadata": {},
     "output_type": "execute_result"
    }
   ],
   "source": [
    "accidents['Latitude'].min(), accidents['Latitude'].max(), accidents['Longitude'].min(), accidents['Longitude'].max()"
   ]
  },
  {
   "cell_type": "markdown",
   "id": "d3bbe5b9-402f-4a32-a868-be083b981de0",
   "metadata": {},
   "source": [
    "<h3> Insight #15 - Covers the UK: 49.9–60.7 (latitude), -7.5–1.7 (longitude). </h3>"
   ]
  },
  {
   "cell_type": "markdown",
   "id": "7bba414c-7e81-42a6-9f6d-b3f5cd24b27b",
   "metadata": {},
   "source": [
    "<h3> 16. What proportion of accidents happened at night vs daylight? </h3>"
   ]
  },
  {
   "cell_type": "code",
   "execution_count": 36,
   "id": "110abbd0-b4b3-4008-990f-e43e1e72a33d",
   "metadata": {},
   "outputs": [
    {
     "data": {
      "text/plain": [
       "Light_Conditions\n",
       "Daylight                       73.391163\n",
       "Darkness - lights lit          19.576072\n",
       "Darkness - no lighting          5.666443\n",
       "Darkness - lighting unknown     0.981415\n",
       "Darkness - lights unlit         0.384907\n",
       "Name: proportion, dtype: float64"
      ]
     },
     "execution_count": 36,
     "metadata": {},
     "output_type": "execute_result"
    }
   ],
   "source": [
    "accidents['Light_Conditions'].value_counts(normalize=True)*100"
   ]
  },
  {
   "cell_type": "markdown",
   "id": "5a4ddacf-7f7b-444c-9481-36b615926754",
   "metadata": {},
   "source": [
    "<h3> Insight #16 - Around 73% in daylight, 27% at night. </h3>"
   ]
  },
  {
   "cell_type": "markdown",
   "id": "949cb586-ccde-4936-ae98-b3fdf5bcc2be",
   "metadata": {},
   "source": [
    "<h3> 17. What is the distribution of road types? </h3>"
   ]
  },
  {
   "cell_type": "code",
   "execution_count": 37,
   "id": "588d011b-7e2b-45f9-943f-62ff73c7ed87",
   "metadata": {},
   "outputs": [
    {
     "data": {
      "text/plain": [
       "Road_Type\n",
       "Single carriageway    492143\n",
       "Dual carriageway       99424\n",
       "Roundabout             43992\n",
       "One way street         13559\n",
       "Slip road               7041\n",
       "Name: count, dtype: int64"
      ]
     },
     "execution_count": 37,
     "metadata": {},
     "output_type": "execute_result"
    }
   ],
   "source": [
    "accidents['Road_Type'].value_counts()"
   ]
  },
  {
   "cell_type": "markdown",
   "id": "d5f52867-7320-4cfc-b2be-fe91581e6e25",
   "metadata": {},
   "source": [
    "<h3> Insight #17 - Most are on single carriageways aboout 492k, then dual, roundabouts and more. </h3>"
   ]
  },
  {
   "cell_type": "markdown",
   "id": "943c3412-ce3c-4c38-b5db-19049c167a6d",
   "metadata": {},
   "source": [
    "<h3> 18. Which 5 districts have the least accidents? </h3>"
   ]
  },
  {
   "cell_type": "code",
   "execution_count": 38,
   "id": "280796b6-4a01-4d2e-b906-c970eebb2342",
   "metadata": {},
   "outputs": [
    {
     "data": {
      "text/plain": [
       "District Area\n",
       "Berwick-upon-Tweed    153\n",
       "Teesdale              142\n",
       "Shetland Islands      133\n",
       "Orkney Islands        117\n",
       "Clackmannanshire       91\n",
       "Name: count, dtype: int64"
      ]
     },
     "execution_count": 38,
     "metadata": {},
     "output_type": "execute_result"
    }
   ],
   "source": [
    "accidents['District Area'].value_counts().tail(5)"
   ]
  },
  {
   "cell_type": "markdown",
   "id": "eae4990d-1350-4157-900c-f84e1dfe865d",
   "metadata": {},
   "source": [
    "<h3> Insight #18 - Smallest counts are in less populated districts like Clackmannanshire. </h3>"
   ]
  },
  {
   "cell_type": "markdown",
   "id": "dc78bf4f-e4ad-4a32-ba50-e3097dee6325",
   "metadata": {},
   "source": [
    "<h3> 19. Which vehicle type is most likely involved in serious/fatal accidents? </h3>"
   ]
  },
  {
   "cell_type": "code",
   "execution_count": 39,
   "id": "afb2f9a2-db54-405c-8ed3-355f55ef02fb",
   "metadata": {},
   "outputs": [
    {
     "data": {
      "text/html": [
       "<div>\n",
       "<style scoped>\n",
       "    .dataframe tbody tr th:only-of-type {\n",
       "        vertical-align: middle;\n",
       "    }\n",
       "\n",
       "    .dataframe tbody tr th {\n",
       "        vertical-align: top;\n",
       "    }\n",
       "\n",
       "    .dataframe thead th {\n",
       "        text-align: right;\n",
       "    }\n",
       "</style>\n",
       "<table border=\"1\" class=\"dataframe\">\n",
       "  <thead>\n",
       "    <tr style=\"text-align: right;\">\n",
       "      <th>Accident_Severity</th>\n",
       "      <th>Fatal</th>\n",
       "      <th>Serious</th>\n",
       "      <th>Slight</th>\n",
       "    </tr>\n",
       "    <tr>\n",
       "      <th>Vehicle_Type</th>\n",
       "      <th></th>\n",
       "      <th></th>\n",
       "      <th></th>\n",
       "    </tr>\n",
       "  </thead>\n",
       "  <tbody>\n",
       "    <tr>\n",
       "      <th>Pedal cycle</th>\n",
       "      <td>0.030457</td>\n",
       "      <td>0.197970</td>\n",
       "      <td>0.771574</td>\n",
       "    </tr>\n",
       "    <tr>\n",
       "      <th>Minibus (8 - 16 passenger seats)</th>\n",
       "      <td>0.014676</td>\n",
       "      <td>0.139676</td>\n",
       "      <td>0.845648</td>\n",
       "    </tr>\n",
       "    <tr>\n",
       "      <th>Motorcycle over 125cc and up to 500cc</th>\n",
       "      <td>0.013715</td>\n",
       "      <td>0.132445</td>\n",
       "      <td>0.853840</td>\n",
       "    </tr>\n",
       "    <tr>\n",
       "      <th>Van / Goods 3.5 tonnes mgw or under</th>\n",
       "      <td>0.013671</td>\n",
       "      <td>0.133314</td>\n",
       "      <td>0.853015</td>\n",
       "    </tr>\n",
       "    <tr>\n",
       "      <th>Motorcycle over 500cc</th>\n",
       "      <td>0.013213</td>\n",
       "      <td>0.134739</td>\n",
       "      <td>0.852048</td>\n",
       "    </tr>\n",
       "  </tbody>\n",
       "</table>\n",
       "</div>"
      ],
      "text/plain": [
       "Accident_Severity                         Fatal   Serious    Slight\n",
       "Vehicle_Type                                                       \n",
       "Pedal cycle                            0.030457  0.197970  0.771574\n",
       "Minibus (8 - 16 passenger seats)       0.014676  0.139676  0.845648\n",
       "Motorcycle over 125cc and up to 500cc  0.013715  0.132445  0.853840\n",
       "Van / Goods 3.5 tonnes mgw or under    0.013671  0.133314  0.853015\n",
       "Motorcycle over 500cc                  0.013213  0.134739  0.852048"
      ]
     },
     "execution_count": 39,
     "metadata": {},
     "output_type": "execute_result"
    }
   ],
   "source": [
    "accidents.groupby('Vehicle_Type')['Accident_Severity'].value_counts(normalize=True).unstack().fillna(0).sort_values('Fatal', ascending=False).head()"
   ]
  },
  {
   "cell_type": "markdown",
   "id": "985ad3dc-06f3-4b2a-a660-0cef16e6591f",
   "metadata": {},
   "source": [
    "<h3> Insight #19 - Motorcycles and bicycles show higher shares of serious/fatal accidents compared to cars. </h3>"
   ]
  },
  {
   "cell_type": "markdown",
   "id": "a2d4d72f-e487-492f-8561-601b5a50e00c",
   "metadata": {},
   "source": [
    "<h3> 20. What is the average number of casualties per severity type? </h3>"
   ]
  },
  {
   "cell_type": "code",
   "execution_count": 40,
   "id": "b55cde11-a867-4040-85ab-fca0b375ab81",
   "metadata": {},
   "outputs": [
    {
     "data": {
      "text/plain": [
       "Accident_Severity\n",
       "Fatal      1.903129\n",
       "Serious    1.467280\n",
       "Slight     1.331402\n",
       "Name: Number_of_Casualties, dtype: float64"
      ]
     },
     "execution_count": 40,
     "metadata": {},
     "output_type": "execute_result"
    }
   ],
   "source": [
    "accidents.groupby('Accident_Severity')['Number_of_Casualties'].mean()"
   ]
  },
  {
   "cell_type": "markdown",
   "id": "a32b3cde-f902-47b3-8fc8-b2235af931fd",
   "metadata": {},
   "source": [
    "<h3> Insight #20 - Fatal accidents have the highest average casualties per crash. </h3>"
   ]
  },
  {
   "cell_type": "markdown",
   "id": "ffa931c5-e4db-485b-869e-d3d094a76a1f",
   "metadata": {},
   "source": [
    "<h3> 21. How do accidents vary by quarter? </h3>"
   ]
  },
  {
   "cell_type": "code",
   "execution_count": 52,
   "id": "c2763642-3461-46bb-9c3b-8ba322745a42",
   "metadata": {},
   "outputs": [
    {
     "data": {
      "text/plain": [
       "Quarter\n",
       "2019Q1    17394\n",
       "2019Q2    17283\n",
       "2019Q3    18024\n",
       "2019Q4    19166\n",
       "2020Q1    16747\n",
       "2020Q2    17064\n",
       "2020Q3    17478\n",
       "2020Q4    18874\n",
       "2021Q1    14783\n",
       "2021Q2    15836\n",
       "2021Q3    16513\n",
       "2021Q4    19040\n",
       "2022Q1    13416\n",
       "2022Q2    13523\n",
       "2022Q3    14588\n",
       "2022Q4    15278\n",
       "Freq: Q-DEC, Name: count, dtype: int64"
      ]
     },
     "execution_count": 52,
     "metadata": {},
     "output_type": "execute_result"
    }
   ],
   "source": [
    "accidents['Quarter'].value_counts().sort_index()"
   ]
  },
  {
   "cell_type": "markdown",
   "id": "528ace8c-a72b-42e9-8dc2-7ac10ec4d367",
   "metadata": {},
   "source": [
    "<h3> Insight #21 - Highest: 2019 Q4 (46,795)\n",
    "\n",
    "Lowest: 2022 Q1 (33,243)\n",
    "\n",
    "➡️ Overall accidents are falling over time, especially post-2020. </h3>"
   ]
  },
  {
   "cell_type": "markdown",
   "id": "66998aa1-e463-43cb-a8cb-2ea499c3359e",
   "metadata": {},
   "source": [
    "<h3> 22. What percentage of accidents had only 1 vehicle? </h3>"
   ]
  },
  {
   "cell_type": "code",
   "execution_count": 51,
   "id": "64012a84-4910-405d-8c46-7694c8455608",
   "metadata": {},
   "outputs": [
    {
     "data": {
      "text/html": [
       "<div>\n",
       "<style scoped>\n",
       "    .dataframe tbody tr th:only-of-type {\n",
       "        vertical-align: middle;\n",
       "    }\n",
       "\n",
       "    .dataframe tbody tr th {\n",
       "        vertical-align: top;\n",
       "    }\n",
       "\n",
       "    .dataframe thead th {\n",
       "        text-align: right;\n",
       "    }\n",
       "</style>\n",
       "<table border=\"1\" class=\"dataframe\">\n",
       "  <thead>\n",
       "    <tr style=\"text-align: right;\">\n",
       "      <th>Accident_Severity</th>\n",
       "      <th>Fatal</th>\n",
       "      <th>Serious</th>\n",
       "      <th>Slight</th>\n",
       "    </tr>\n",
       "    <tr>\n",
       "      <th>Month</th>\n",
       "      <th></th>\n",
       "      <th></th>\n",
       "      <th></th>\n",
       "    </tr>\n",
       "  </thead>\n",
       "  <tbody>\n",
       "    <tr>\n",
       "      <th>1.0</th>\n",
       "      <td>272</td>\n",
       "      <td>2219</td>\n",
       "      <td>15761</td>\n",
       "    </tr>\n",
       "    <tr>\n",
       "      <th>2.0</th>\n",
       "      <td>269</td>\n",
       "      <td>2768</td>\n",
       "      <td>19227</td>\n",
       "    </tr>\n",
       "    <tr>\n",
       "      <th>3.0</th>\n",
       "      <td>292</td>\n",
       "      <td>2833</td>\n",
       "      <td>18699</td>\n",
       "    </tr>\n",
       "    <tr>\n",
       "      <th>4.0</th>\n",
       "      <td>300</td>\n",
       "      <td>2828</td>\n",
       "      <td>16659</td>\n",
       "    </tr>\n",
       "    <tr>\n",
       "      <th>5.0</th>\n",
       "      <td>301</td>\n",
       "      <td>2999</td>\n",
       "      <td>18423</td>\n",
       "    </tr>\n",
       "  </tbody>\n",
       "</table>\n",
       "</div>"
      ],
      "text/plain": [
       "Accident_Severity  Fatal  Serious  Slight\n",
       "Month                                    \n",
       "1.0                  272     2219   15761\n",
       "2.0                  269     2768   19227\n",
       "3.0                  292     2833   18699\n",
       "4.0                  300     2828   16659\n",
       "5.0                  301     2999   18423"
      ]
     },
     "execution_count": 51,
     "metadata": {},
     "output_type": "execute_result"
    }
   ],
   "source": [
    "accidents.groupby(['Month','Accident_Severity']).size().unstack(fill_value=0).head()"
   ]
  },
  {
   "cell_type": "markdown",
   "id": "5d138c80-6f6a-41fc-a867-ef7d9512f595",
   "metadata": {},
   "source": [
    "<h3> Insight #22 - Fatal accidents per month: 600–760 range\n",
    "\n",
    "Serious accidents: 6,000–7,700\n",
    "\n",
    "Slight accidents dominate: 40,000–47,000 per month. </h3>"
   ]
  },
  {
   "cell_type": "markdown",
   "id": "b6c3ba0b-c474-4d2c-a0eb-20b4fb4ddccf",
   "metadata": {},
   "source": [
    "<h3> 23. In terms of recorded accidents, which car is the most frequently used? </h3>"
   ]
  },
  {
   "cell_type": "code",
   "execution_count": 43,
   "id": "518c7ea4-b2ae-4044-a66b-cdf8cac1946a",
   "metadata": {},
   "outputs": [
    {
     "data": {
      "text/plain": [
       "Vehicle_Type\n",
       "Car                                      497992\n",
       "Van / Goods 3.5 tonnes mgw or under       34160\n",
       "Bus or coach (17 or more pass seats)      25878\n",
       "Motorcycle over 500cc                     25657\n",
       "Goods 7.5 tonnes mgw and over             17307\n",
       "Motorcycle 125cc and under                15269\n",
       "Taxi/Private hire car                     13294\n",
       "Motorcycle over 125cc and up to 500cc      7656\n",
       "Motorcycle 50cc and under                  7603\n",
       "Goods over 3.5t. and under 7.5t            6096\n",
       "Other vehicle                              5637\n",
       "Minibus (8 - 16 passenger seats)           1976\n",
       "Agricultural vehicle                       1947\n",
       "Pedal cycle                                 197\n",
       "Data missing or out of range                  6\n",
       "Ridden horse                                  4\n",
       "Name: Number_of_Casualties, dtype: int64"
      ]
     },
     "execution_count": 43,
     "metadata": {},
     "output_type": "execute_result"
    }
   ],
   "source": [
    "vehicles = accidents.groupby(\"Vehicle_Type\")[\"Number_of_Casualties\"].size().sort_values(ascending=False)\n",
    "\n",
    "vehicles"
   ]
  },
  {
   "cell_type": "markdown",
   "id": "314c2ed2-bd4c-45bf-859a-22fdeb18705b",
   "metadata": {},
   "source": [
    "<h3> Insight #23 - Since cars have the highest number of incidents reported, they are the most popular vehicle in the UK. Because of their size and weight, vans and coaches may carry more passengers, increasing the number of fatalities from collisions. Due to their increased vulnerability, two-wheeled vehicles are more likely to be involved in accidents. </h3>"
   ]
  },
  {
   "cell_type": "markdown",
   "id": "b4dcee6e-6bb6-4bfa-ba68-5b5a5cf51c9b",
   "metadata": {},
   "source": [
    "<h3> 24. What is the monthly accident trend? </h3>"
   ]
  },
  {
   "cell_type": "code",
   "execution_count": 50,
   "id": "37c90150-2b56-4054-9fff-8c495828470e",
   "metadata": {},
   "outputs": [
    {
     "data": {
      "text/plain": [
       "Accident Date\n",
       "2019-01-31    5318\n",
       "2019-02-28    6173\n",
       "2019-03-31    5903\n",
       "2019-04-30    5178\n",
       "2019-05-31    6265\n",
       "dtype: int64"
      ]
     },
     "execution_count": 50,
     "metadata": {},
     "output_type": "execute_result"
    }
   ],
   "source": [
    "accidents.groupby(pd.Grouper(key='Accident Date', freq='M')).size().head()"
   ]
  },
  {
   "cell_type": "markdown",
   "id": "c0fb2cef-b98d-40dd-9ff0-0da4dff3f41c",
   "metadata": {},
   "source": [
    "<h3> Insight #24 - \n",
    "    \n",
    "Jan 2019 → 15,355\n",
    "    \n",
    "Feb 2019 → 13,253\n",
    "\n",
    "Mar 2019 → 15,049 </h3>"
   ]
  },
  {
   "cell_type": "markdown",
   "id": "25906bf1-74bd-4810-a806-b5765e0988bb",
   "metadata": {},
   "source": [
    "<h3> 25. Which day of the week has the most accidents? </h3>"
   ]
  },
  {
   "cell_type": "code",
   "execution_count": 49,
   "id": "a8244728-a671-442a-ac97-a9ee3ba43ba5",
   "metadata": {},
   "outputs": [
    {
     "data": {
      "text/plain": [
       "DayOfWeek\n",
       "Saturday     43164\n",
       "Wednesday    40037\n",
       "Friday       39822\n",
       "Thursday     39641\n",
       "Tuesday      38714\n",
       "Sunday       35065\n",
       "Monday       28564\n",
       "Name: count, dtype: int64"
      ]
     },
     "execution_count": 49,
     "metadata": {},
     "output_type": "execute_result"
    }
   ],
   "source": [
    "accidents['DayOfWeek'].value_counts()"
   ]
  },
  {
   "cell_type": "markdown",
   "id": "69cb64c0-e749-40f7-9942-6117770511e7",
   "metadata": {},
   "source": [
    "<h3> Insight #25 - Saturday has the highest accidents. Monday has the lowest. </h3>"
   ]
  },
  {
   "cell_type": "markdown",
   "id": "12f465ea-7867-4f49-a2aa-02fad713f57c",
   "metadata": {},
   "source": [
    "<h3> 26. How many accidents occurred each year? </h3>"
   ]
  },
  {
   "cell_type": "code",
   "execution_count": 53,
   "id": "a05ef084-fa8c-453f-a40a-0c65230a950f",
   "metadata": {},
   "outputs": [
    {
     "data": {
      "text/plain": [
       "Year\n",
       "2019.0    71867\n",
       "2020.0    70163\n",
       "2021.0    66172\n",
       "2022.0    56805\n",
       "Name: count, dtype: int64"
      ]
     },
     "execution_count": 53,
     "metadata": {},
     "output_type": "execute_result"
    }
   ],
   "source": [
    "accidents['Year'].value_counts().sort_index()"
   ]
  },
  {
   "cell_type": "markdown",
   "id": "05091a97-56a5-4cf3-a53d-be057f10e035",
   "metadata": {},
   "source": [
    "<h3> Insight #26 - \n",
    "\n",
    "2019 → 182,115\n",
    "\n",
    "2020 → 170,591\n",
    "\n",
    "2021 → 163,554\n",
    "\n",
    "2022 → 144,419\n",
    "\n",
    "➡️ Accidents decreased steadily each year. </h3>"
   ]
  },
  {
   "cell_type": "markdown",
   "id": "8a419446-a5c5-4459-a03e-fec0dc1c1c08",
   "metadata": {},
   "source": [
    "<h3> 27. Which months have the most accidents? </h3>"
   ]
  },
  {
   "cell_type": "code",
   "execution_count": 55,
   "id": "3dc4b5f3-e58c-48cb-9e6d-35f5cbfadad3",
   "metadata": {},
   "outputs": [
    {
     "data": {
      "text/plain": [
       "Month\n",
       "1.0     18252\n",
       "2.0     22264\n",
       "3.0     21824\n",
       "4.0     19787\n",
       "5.0     21723\n",
       "6.0     22196\n",
       "7.0     22939\n",
       "8.0     21106\n",
       "9.0     22558\n",
       "10.0    23962\n",
       "11.0    24240\n",
       "12.0    24156\n",
       "Name: count, dtype: int64"
      ]
     },
     "execution_count": 55,
     "metadata": {},
     "output_type": "execute_result"
    }
   ],
   "source": [
    "accidents['Month'].value_counts().sort_index()"
   ]
  },
  {
   "cell_type": "markdown",
   "id": "cafc55ba-3a67-45bc-9270-14e5468528b1",
   "metadata": {},
   "source": [
    "<h3> Insight #27 - \n",
    "\n",
    "Peak months: November (60,424) and October (59,580)\n",
    "\n",
    "Lowest month: February (49,491) </h3>"
   ]
  },
  {
   "cell_type": "markdown",
   "id": "6cf8ada7-9103-4c51-ae19-e53d1ff71b3f",
   "metadata": {},
   "source": [
    "<h3> 28. How many accidents occurred each year, and what trend can we observe over time? </h3>"
   ]
  },
  {
   "cell_type": "code",
   "execution_count": 56,
   "id": "523e72f4-dbc2-4fb3-8ab5-11912711c9c2",
   "metadata": {},
   "outputs": [],
   "source": [
    "accidents_by_year = accidents['Year'].value_counts().sort_index()"
   ]
  },
  {
   "cell_type": "code",
   "execution_count": 58,
   "id": "f060be29-3c0a-4891-9504-f502398d1377",
   "metadata": {},
   "outputs": [
    {
     "data": {
      "image/png": "[encoded data removed]",
      "text/plain": [
       "<Figure size 600x400 with 1 Axes>"
      ]
     },
     "metadata": {},
     "output_type": "display_data"
    }
   ],
   "source": [
    "accidents_by_year.plot(kind='bar', figsize=(6,4), color='blue', edgecolor='black')\n",
    "plt.title(\"Accidents by Year\")\n",
    "plt.xlabel(\"Year\")\n",
    "plt.ylabel(\"Number of Accidents\")\n",
    "plt.xticks(rotation=0)\n",
    "plt.show()"
   ]
  },
  {
   "cell_type": "markdown",
   "id": "e1416572-bc6c-4079-889f-39548b0abf42",
   "metadata": {},
   "source": [
    "<h3> Insight #28 - The bar chart shows the number of accidents for each year. By looking at the graph, you can identify whether accidents are increasing, decreasing, or staying stable over the years.\n",
    "\n",
    "It says that in year 2019 has the most frequent accidents and it is decreasing on the next years.\n",
    "\n",
    "</h3>"
   ]
  },
  {
   "cell_type": "code",
   "execution_count": null,
   "id": "b6bb75e0-8fc9-4e83-8199-4161b4049775",
   "metadata": {},
   "outputs": [],
   "source": []
  }
 ],
 "metadata": {
  "kernelspec": {
   "display_name": "Python 3 (ipykernel)",
   "language": "python",
   "name": "python3"
  },
  "language_info": {
   "codemirror_mode": {
    "name": "ipython",
    "version": 3
   },
   "file_extension": ".py",
   "mimetype": "text/x-python",
   "name": "python",
   "nbconvert_exporter": "python",
   "pygments_lexer": "ipython3",
   "version": "3.13.0"
  }
 },
 "nbformat": 4,
 "nbformat_minor": 5
}
