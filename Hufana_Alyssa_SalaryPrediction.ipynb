{
 "cells": [
  {
   "cell_type": "markdown",
   "id": "46956e4f-34bf-441c-809d-8e38206719d8",
   "metadata": {},
   "source": [
    "<h1> Part 1: Setup and Data Loading </h1>"
   ]
  },
  {
   "cell_type": "code",
   "execution_count": 1,
   "id": "d037dc38-151b-4bcc-8f35-f78aabd8cb36",
   "metadata": {},
   "outputs": [],
   "source": [
    "import pandas as pd\n",
    "import numpy as np\n",
    "import matplotlib.pyplot as plt\n",
    "import seaborn as sns\n",
    "from sklearn.model_selection import train_test_split\n",
    "from sklearn.linear_model import LinearRegression\n",
    "from sklearn.metrics import r2_score, mean_squared_error\n",
    "from sklearn.preprocessing import LabelEncoder"
   ]
  },
  {
   "cell_type": "code",
   "execution_count": 4,
   "id": "8ab3b8e5-f5b8-4a64-acd3-b69548392ae5",
   "metadata": {},
   "outputs": [],
   "source": [
    "df = pd.read_csv('datasets//Data Science Salary 2021 to 2023.csv')"
   ]
  },
  {
   "cell_type": "code",
   "execution_count": 5,
   "id": "d3643028-9d94-4f5d-8699-4a6c48c4fec0",
   "metadata": {},
   "outputs": [
    {
     "data": {
      "text/html": [
       "<div>\n",
       "<style scoped>\n",
       "    .dataframe tbody tr th:only-of-type {\n",
       "        vertical-align: middle;\n",
       "    }\n",
       "\n",
       "    .dataframe tbody tr th {\n",
       "        vertical-align: top;\n",
       "    }\n",
       "\n",
       "    .dataframe thead th {\n",
       "        text-align: right;\n",
       "    }\n",
       "</style>\n",
       "<table border=\"1\" class=\"dataframe\">\n",
       "  <thead>\n",
       "    <tr style=\"text-align: right;\">\n",
       "      <th></th>\n",
       "      <th>work_year</th>\n",
       "      <th>experience_level</th>\n",
       "      <th>employment_type</th>\n",
       "      <th>job_title</th>\n",
       "      <th>salary</th>\n",
       "      <th>salary_currency</th>\n",
       "      <th>salary_in_usd</th>\n",
       "      <th>company_location</th>\n",
       "      <th>company_size</th>\n",
       "    </tr>\n",
       "  </thead>\n",
       "  <tbody>\n",
       "    <tr>\n",
       "      <th>0</th>\n",
       "      <td>2023</td>\n",
       "      <td>EN</td>\n",
       "      <td>FT</td>\n",
       "      <td>Applied Scientist</td>\n",
       "      <td>213660</td>\n",
       "      <td>USD</td>\n",
       "      <td>213660</td>\n",
       "      <td>US</td>\n",
       "      <td>L</td>\n",
       "    </tr>\n",
       "    <tr>\n",
       "      <th>1</th>\n",
       "      <td>2023</td>\n",
       "      <td>EN</td>\n",
       "      <td>FT</td>\n",
       "      <td>Applied Scientist</td>\n",
       "      <td>130760</td>\n",
       "      <td>USD</td>\n",
       "      <td>130760</td>\n",
       "      <td>US</td>\n",
       "      <td>L</td>\n",
       "    </tr>\n",
       "    <tr>\n",
       "      <th>2</th>\n",
       "      <td>2023</td>\n",
       "      <td>EN</td>\n",
       "      <td>FT</td>\n",
       "      <td>Data Quality Analyst</td>\n",
       "      <td>100000</td>\n",
       "      <td>USD</td>\n",
       "      <td>100000</td>\n",
       "      <td>NG</td>\n",
       "      <td>L</td>\n",
       "    </tr>\n",
       "    <tr>\n",
       "      <th>3</th>\n",
       "      <td>2023</td>\n",
       "      <td>EN</td>\n",
       "      <td>FT</td>\n",
       "      <td>Compliance Data Analyst</td>\n",
       "      <td>30000</td>\n",
       "      <td>USD</td>\n",
       "      <td>30000</td>\n",
       "      <td>NG</td>\n",
       "      <td>L</td>\n",
       "    </tr>\n",
       "    <tr>\n",
       "      <th>4</th>\n",
       "      <td>2023</td>\n",
       "      <td>EN</td>\n",
       "      <td>FT</td>\n",
       "      <td>Applied Scientist</td>\n",
       "      <td>204620</td>\n",
       "      <td>USD</td>\n",
       "      <td>204620</td>\n",
       "      <td>US</td>\n",
       "      <td>L</td>\n",
       "    </tr>\n",
       "  </tbody>\n",
       "</table>\n",
       "</div>"
      ],
      "text/plain": [
       "   work_year experience_level employment_type                job_title  \\\n",
       "0       2023               EN              FT        Applied Scientist   \n",
       "1       2023               EN              FT        Applied Scientist   \n",
       "2       2023               EN              FT     Data Quality Analyst   \n",
       "3       2023               EN              FT  Compliance Data Analyst   \n",
       "4       2023               EN              FT        Applied Scientist   \n",
       "\n",
       "   salary salary_currency  salary_in_usd company_location company_size  \n",
       "0  213660             USD         213660               US            L  \n",
       "1  130760             USD         130760               US            L  \n",
       "2  100000             USD         100000               NG            L  \n",
       "3   30000             USD          30000               NG            L  \n",
       "4  204620             USD         204620               US            L  "
      ]
     },
     "execution_count": 5,
     "metadata": {},
     "output_type": "execute_result"
    }
   ],
   "source": [
    "df.head()"
   ]
  },
  {
   "cell_type": "code",
   "execution_count": 6,
   "id": "9cfdd70a-3aa0-4d50-8184-a425774170ef",
   "metadata": {},
   "outputs": [
    {
     "name": "stdout",
     "output_type": "stream",
     "text": [
      "<class 'pandas.core.frame.DataFrame'>\n",
      "RangeIndex: 3761 entries, 0 to 3760\n",
      "Data columns (total 9 columns):\n",
      " #   Column            Non-Null Count  Dtype \n",
      "---  ------            --------------  ----- \n",
      " 0   work_year         3761 non-null   int64 \n",
      " 1   experience_level  3761 non-null   object\n",
      " 2   employment_type   3761 non-null   object\n",
      " 3   job_title         3761 non-null   object\n",
      " 4   salary            3761 non-null   int64 \n",
      " 5   salary_currency   3761 non-null   object\n",
      " 6   salary_in_usd     3761 non-null   int64 \n",
      " 7   company_location  3761 non-null   object\n",
      " 8   company_size      3761 non-null   object\n",
      "dtypes: int64(3), object(6)\n",
      "memory usage: 264.6+ KB\n"
     ]
    }
   ],
   "source": [
    "df.info()"
   ]
  },
  {
   "cell_type": "markdown",
   "id": "89df3c2d-afd6-44a2-abae-6afae1a7fce5",
   "metadata": {},
   "source": [
    "<h1> Part 2: Exploratory Data Analysis (EDA) </h1>"
   ]
  },
  {
   "cell_type": "markdown",
   "id": "cb9831a9-09c2-4e58-9d55-dbe6bdd572dc",
   "metadata": {},
   "source": [
    "<h3> 1. How many unique job titles are there? </h3>"
   ]
  },
  {
   "cell_type": "code",
   "execution_count": 15,
   "id": "58e4d151-a511-47de-a262-8a59fea7c094",
   "metadata": {},
   "outputs": [
    {
     "data": {
      "text/plain": [
       "93"
      ]
     },
     "execution_count": 15,
     "metadata": {},
     "output_type": "execute_result"
    }
   ],
   "source": [
    "#Count the number of unique job titles\n",
    "unique_jobs = df['job_title'].nunique()\n",
    "unique_jobs"
   ]
  },
  {
   "cell_type": "markdown",
   "id": "4f630898-3127-4781-83e0-a98f1739067e",
   "metadata": {},
   "source": [
    "<h2> There are 93 unique job titles. </h2>"
   ]
  },
  {
   "cell_type": "markdown",
   "id": "d40289f9-58fb-458c-b3f0-fc46693e419a",
   "metadata": {},
   "source": [
    "<h3> 2. What is the average salary (`salary_in_usd`) per `work_year`? </h3>"
   ]
  },
  {
   "cell_type": "code",
   "execution_count": 13,
   "id": "3bbb5b6a-6db6-4b14-b824-0d2bc4c0d711",
   "metadata": {},
   "outputs": [
    {
     "data": {
      "text/plain": [
       "work_year\n",
       "2020     92302.631579\n",
       "2021     94087.208696\n",
       "2022    133379.510804\n",
       "2023    148954.558413\n",
       "Name: salary_in_usd, dtype: float64"
      ]
     },
     "execution_count": 13,
     "metadata": {},
     "output_type": "execute_result"
    }
   ],
   "source": [
    "#Compute the average salary by work year\n",
    "avg_salary_per_year = df.groupby('work_year')['salary_in_usd'].mean()\n",
    "avg_salary_per_year"
   ]
  },
  {
   "cell_type": "markdown",
   "id": "58304a3f-768c-414e-8576-a5fbd8600819",
   "metadata": {},
   "source": [
    "<h2> This is the average salary per work year.\n",
    "2020 = 92302.63, 2021 = 94087.21, 2022 = 133379.51, 2023 = 148954.56</h2>"
   ]
  },
  {
   "cell_type": "markdown",
   "id": "f1ea09a4-ca31-4d74-9e3a-7bd7a3914e7c",
   "metadata": {},
   "source": [
    "<h3> 3. Create a bar plot showing average salary by `experience_level`. </h3>"
   ]
  },
  {
   "cell_type": "code",
   "execution_count": 14,
   "id": "22cc678c-1e74-4f5a-85b9-f3749fbcc4c1",
   "metadata": {},
   "outputs": [
    {
     "data": {
      "image/png": "[encoded data removed]",
      "text/plain": [
       "<Figure size 700x400 with 1 Axes>"
      ]
     },
     "metadata": {},
     "output_type": "display_data"
    }
   ],
   "source": [
    "#Calculate average salary by experience level\n",
    "avg_salary_by_exp = df.groupby('experience_level')['salary_in_usd'].mean()\n",
    "\n",
    "#Create a bar plot\n",
    "avg_salary_by_exp.plot(kind='bar', figsize=(7,4))\n",
    "plt.title('Average Salary by Experience Level')\n",
    "plt.xlabel('Experience Level')\n",
    "plt.ylabel('Average Salary (USD)')\n",
    "plt.grid(axis='y', linestyle='--', alpha=0.7)\n",
    "plt.show()"
   ]
  },
  {
   "cell_type": "markdown",
   "id": "737fc9d7-a85f-4e0a-8a35-a4ee12c04a98",
   "metadata": {},
   "source": [
    "<h3> The bar chart above shows how average salaries vary by experience level.\n",
    "Typically, senior-level positions have the highest average salaries, followed by mid-level, entry-level, and intern roles. </h3>"
   ]
  },
  {
   "cell_type": "markdown",
   "id": "0ca68bcb-cc2e-4973-bc06-a58878532364",
   "metadata": {},
   "source": [
    "<h1> Part 3: Data Preprocessing for Linear Regression. </h1>"
   ]
  },
  {
   "cell_type": "markdown",
   "id": "e9f63fb3-4f06-4ee9-abfe-741a5d56e918",
   "metadata": {},
   "source": [
    "<h2> 1. Select features: `work_year`, `experience_level`, and optionally `job_title` </h2>"
   ]
  },
  {
   "cell_type": "code",
   "execution_count": 16,
   "id": "a5bcaed3-ac65-442b-8980-bda0c65de19d",
   "metadata": {},
   "outputs": [
    {
     "data": {
      "text/html": [
       "<div>\n",
       "<style scoped>\n",
       "    .dataframe tbody tr th:only-of-type {\n",
       "        vertical-align: middle;\n",
       "    }\n",
       "\n",
       "    .dataframe tbody tr th {\n",
       "        vertical-align: top;\n",
       "    }\n",
       "\n",
       "    .dataframe thead th {\n",
       "        text-align: right;\n",
       "    }\n",
       "</style>\n",
       "<table border=\"1\" class=\"dataframe\">\n",
       "  <thead>\n",
       "    <tr style=\"text-align: right;\">\n",
       "      <th></th>\n",
       "      <th>work_year</th>\n",
       "      <th>experience_level</th>\n",
       "      <th>salary_in_usd</th>\n",
       "    </tr>\n",
       "  </thead>\n",
       "  <tbody>\n",
       "    <tr>\n",
       "      <th>0</th>\n",
       "      <td>2023</td>\n",
       "      <td>EN</td>\n",
       "      <td>213660</td>\n",
       "    </tr>\n",
       "    <tr>\n",
       "      <th>1</th>\n",
       "      <td>2023</td>\n",
       "      <td>EN</td>\n",
       "      <td>130760</td>\n",
       "    </tr>\n",
       "    <tr>\n",
       "      <th>2</th>\n",
       "      <td>2023</td>\n",
       "      <td>EN</td>\n",
       "      <td>100000</td>\n",
       "    </tr>\n",
       "    <tr>\n",
       "      <th>3</th>\n",
       "      <td>2023</td>\n",
       "      <td>EN</td>\n",
       "      <td>30000</td>\n",
       "    </tr>\n",
       "    <tr>\n",
       "      <th>4</th>\n",
       "      <td>2023</td>\n",
       "      <td>EN</td>\n",
       "      <td>204620</td>\n",
       "    </tr>\n",
       "  </tbody>\n",
       "</table>\n",
       "</div>"
      ],
      "text/plain": [
       "   work_year experience_level  salary_in_usd\n",
       "0       2023               EN         213660\n",
       "1       2023               EN         130760\n",
       "2       2023               EN         100000\n",
       "3       2023               EN          30000\n",
       "4       2023               EN         204620"
      ]
     },
     "execution_count": 16,
     "metadata": {},
     "output_type": "execute_result"
    }
   ],
   "source": [
    "features = ['work_year', 'experience_level']\n",
    "target = 'salary_in_usd'\n",
    "\n",
    "df_model = df[features + [target]]\n",
    "df_model.head()"
   ]
  },
  {
   "cell_type": "markdown",
   "id": "718ce759-9da1-4d62-9e62-d407a3a75006",
   "metadata": {},
   "source": [
    "<h2> 2. Encode categorical variables (`experience_level`) using `LabelEncoder` or `pd.get_dummies()` </h2>"
   ]
  },
  {
   "cell_type": "code",
   "execution_count": 18,
   "id": "75e60c26-5077-4116-b180-021e996d6cf3",
   "metadata": {},
   "outputs": [
    {
     "data": {
      "text/html": [
       "<div>\n",
       "<style scoped>\n",
       "    .dataframe tbody tr th:only-of-type {\n",
       "        vertical-align: middle;\n",
       "    }\n",
       "\n",
       "    .dataframe tbody tr th {\n",
       "        vertical-align: top;\n",
       "    }\n",
       "\n",
       "    .dataframe thead th {\n",
       "        text-align: right;\n",
       "    }\n",
       "</style>\n",
       "<table border=\"1\" class=\"dataframe\">\n",
       "  <thead>\n",
       "    <tr style=\"text-align: right;\">\n",
       "      <th></th>\n",
       "      <th>work_year</th>\n",
       "      <th>salary_in_usd</th>\n",
       "      <th>experience_level_EX</th>\n",
       "      <th>experience_level_MI</th>\n",
       "      <th>experience_level_SE</th>\n",
       "    </tr>\n",
       "  </thead>\n",
       "  <tbody>\n",
       "    <tr>\n",
       "      <th>0</th>\n",
       "      <td>2023</td>\n",
       "      <td>213660</td>\n",
       "      <td>False</td>\n",
       "      <td>False</td>\n",
       "      <td>False</td>\n",
       "    </tr>\n",
       "    <tr>\n",
       "      <th>1</th>\n",
       "      <td>2023</td>\n",
       "      <td>130760</td>\n",
       "      <td>False</td>\n",
       "      <td>False</td>\n",
       "      <td>False</td>\n",
       "    </tr>\n",
       "    <tr>\n",
       "      <th>2</th>\n",
       "      <td>2023</td>\n",
       "      <td>100000</td>\n",
       "      <td>False</td>\n",
       "      <td>False</td>\n",
       "      <td>False</td>\n",
       "    </tr>\n",
       "    <tr>\n",
       "      <th>3</th>\n",
       "      <td>2023</td>\n",
       "      <td>30000</td>\n",
       "      <td>False</td>\n",
       "      <td>False</td>\n",
       "      <td>False</td>\n",
       "    </tr>\n",
       "    <tr>\n",
       "      <th>4</th>\n",
       "      <td>2023</td>\n",
       "      <td>204620</td>\n",
       "      <td>False</td>\n",
       "      <td>False</td>\n",
       "      <td>False</td>\n",
       "    </tr>\n",
       "  </tbody>\n",
       "</table>\n",
       "</div>"
      ],
      "text/plain": [
       "   work_year  salary_in_usd  experience_level_EX  experience_level_MI  \\\n",
       "0       2023         213660                False                False   \n",
       "1       2023         130760                False                False   \n",
       "2       2023         100000                False                False   \n",
       "3       2023          30000                False                False   \n",
       "4       2023         204620                False                False   \n",
       "\n",
       "   experience_level_SE  \n",
       "0                False  \n",
       "1                False  \n",
       "2                False  \n",
       "3                False  \n",
       "4                False  "
      ]
     },
     "execution_count": 18,
     "metadata": {},
     "output_type": "execute_result"
    }
   ],
   "source": [
    "df_encoded = pd.get_dummies(df_model, columns=['experience_level'], drop_first=True)\n",
    "df_encoded.head()"
   ]
  },
  {
   "cell_type": "markdown",
   "id": "05fcdab5-c752-4a57-80aa-4e741f9c4240",
   "metadata": {},
   "source": [
    "<h2> 3. Define `X` (features) and `y` (target = `salary_in_usd`) </h2>"
   ]
  },
  {
   "cell_type": "code",
   "execution_count": 19,
   "id": "ab2597c0-21c5-4a94-b131-3c230bca382f",
   "metadata": {},
   "outputs": [
    {
     "data": {
      "text/plain": [
       "(   work_year  experience_level_EX  experience_level_MI  experience_level_SE\n",
       " 0       2023                False                False                False\n",
       " 1       2023                False                False                False\n",
       " 2       2023                False                False                False\n",
       " 3       2023                False                False                False\n",
       " 4       2023                False                False                False,\n",
       " 0    213660\n",
       " 1    130760\n",
       " 2    100000\n",
       " 3     30000\n",
       " 4    204620\n",
       " Name: salary_in_usd, dtype: int64)"
      ]
     },
     "execution_count": 19,
     "metadata": {},
     "output_type": "execute_result"
    }
   ],
   "source": [
    "X = df_encoded.drop(columns=['salary_in_usd'])\n",
    "y = df_encoded['salary_in_usd']\n",
    "\n",
    "X.head(), y.head()"
   ]
  },
  {
   "cell_type": "markdown",
   "id": "94476ec4-ab06-445c-af00-5eca424413c2",
   "metadata": {},
   "source": [
    "<h1> Part 4: Train a Linear Regression Model </h1>"
   ]
  },
  {
   "cell_type": "code",
   "execution_count": 25,
   "id": "512a5c72-54b5-4448-835a-f2dcb8168d3d",
   "metadata": {},
   "outputs": [
    {
     "name": "stdout",
     "output_type": "stream",
     "text": [
      "R² Score: 0.15\n",
      "RMSE: 59164.82\n"
     ]
    }
   ],
   "source": [
    "# Split data into train and test sets (80/20)\n",
    "X_train, X_test, y_train, y_test = train_test_split(X, y, test_size=0.2, random_state=42)\n",
    "\n",
    "# Create and train the model\n",
    "model = LinearRegression()\n",
    "model.fit(X_train, y_train)\n",
    "\n",
    "# Make predictions\n",
    "y_pred = model.predict(X_test)\n",
    "\n",
    "# Evaluate\n",
    "print(f\"R² Score: {r2_score(y_test, y_pred):.2f}\")\n",
    "print(f\"RMSE: {np.sqrt(mean_squared_error(y_test, y_pred)):.2f}\")"
   ]
  },
  {
   "cell_type": "markdown",
   "id": "26422132-be22-470b-8dd2-5c8897712acb",
   "metadata": {},
   "source": [
    "<h1> Part 5: Predict 2024 Salaries </h1>"
   ]
  },
  {
   "cell_type": "code",
   "execution_count": 26,
   "id": "be48c5cc-97d6-4e02-947b-56eb913bc459",
   "metadata": {},
   "outputs": [
    {
     "name": "stdout",
     "output_type": "stream",
     "text": [
      "['EN' 'EX' 'MI' 'SE']\n"
     ]
    },
    {
     "data": {
      "text/html": [
       "<div>\n",
       "<style scoped>\n",
       "    .dataframe tbody tr th:only-of-type {\n",
       "        vertical-align: middle;\n",
       "    }\n",
       "\n",
       "    .dataframe tbody tr th {\n",
       "        vertical-align: top;\n",
       "    }\n",
       "\n",
       "    .dataframe thead th {\n",
       "        text-align: right;\n",
       "    }\n",
       "</style>\n",
       "<table border=\"1\" class=\"dataframe\">\n",
       "  <thead>\n",
       "    <tr style=\"text-align: right;\">\n",
       "      <th></th>\n",
       "      <th>Experience Level</th>\n",
       "      <th>Predicted 2024 Salary (USD)</th>\n",
       "    </tr>\n",
       "  </thead>\n",
       "  <tbody>\n",
       "    <tr>\n",
       "      <th>0</th>\n",
       "      <td>Entry</td>\n",
       "      <td>111694.914909</td>\n",
       "    </tr>\n",
       "    <tr>\n",
       "      <th>1</th>\n",
       "      <td>Mid</td>\n",
       "      <td>131967.434578</td>\n",
       "    </tr>\n",
       "    <tr>\n",
       "      <th>2</th>\n",
       "      <td>Senior</td>\n",
       "      <td>152239.954247</td>\n",
       "    </tr>\n",
       "    <tr>\n",
       "      <th>3</th>\n",
       "      <td>Executive</td>\n",
       "      <td>172512.473916</td>\n",
       "    </tr>\n",
       "  </tbody>\n",
       "</table>\n",
       "</div>"
      ],
      "text/plain": [
       "  Experience Level  Predicted 2024 Salary (USD)\n",
       "0            Entry                111694.914909\n",
       "1              Mid                131967.434578\n",
       "2           Senior                152239.954247\n",
       "3        Executive                172512.473916"
      ]
     },
     "execution_count": 26,
     "metadata": {},
     "output_type": "execute_result"
    }
   ],
   "source": [
    "# Check label encoder mapping\n",
    "print(le.classes_)\n",
    "\n",
    "# Create future data for 2024\n",
    "future_data = pd.DataFrame({\n",
    "    'work_year': [2024, 2024, 2024, 2024],\n",
    "    'experience_level_encoded': [0, 1, 2, 3]  # EN, MI, SE, EX (adjust if needed)\n",
    "})\n",
    "\n",
    "# Predict 2024 salaries\n",
    "predicted_salaries = model.predict(future_data)\n",
    "\n",
    "# Display results\n",
    "results = pd.DataFrame({\n",
    "    'Experience Level': ['Entry', 'Mid', 'Senior', 'Executive'],\n",
    "    'Predicted 2024 Salary (USD)': predicted_salaries\n",
    "})\n",
    "\n",
    "results\n"
   ]
  },
  {
   "cell_type": "markdown",
   "id": "c40de06f-65d4-4e59-828c-783a2b20235b",
   "metadata": {},
   "source": [
    "<h1> Part 6: Reflection </h1>"
   ]
  },
  {
   "cell_type": "markdown",
   "id": "d5355135-01b9-46a4-b3b7-e2b93bb70af4",
   "metadata": {},
   "source": [
    "<h2> 1. Does your model make reasonable predictions? Why or why not? </h2>"
   ]
  },
  {
   "cell_type": "markdown",
   "id": "a61d5020-6d3f-4ace-9568-8b69e8cfc85b",
   "metadata": {},
   "source": [
    "<h3> Yes, the model makes somewhat reasonable predictions since salary increase with higher experience levels and later work years. However, the predictions are not very accurate because the model is too simple. </h3>"
   ]
  },
  {
   "cell_type": "markdown",
   "id": "130a58d7-f000-48d2-a0c0-2b2905e84a48",
   "metadata": {},
   "source": [
    "<h2> 2. What are the limitations of using only `work_year` and `experience_level`? </h2>"
   ]
  },
  {
   "cell_type": "markdown",
   "id": "6a25605c-d920-4c0d-bb1f-3faa8201f4aa",
   "metadata": {},
   "source": [
    "<h3>  The main limitation is that it only uses work_year and experience_level.It ignores other important factors like job_title, company location, company size, and employment type, which all affect salary. </h3>"
   ]
  },
  {
   "cell_type": "markdown",
   "id": "9c9b09d1-e145-4b3d-85ff-8a7a64b561e6",
   "metadata": {},
   "source": [
    "<h2> 3. How could you improve this model? </h2>"
   ]
  },
  {
   "cell_type": "markdown",
   "id": "17baa9ea-2f9b-4229-ab56-c7314dd42f9f",
   "metadata": {},
   "source": [
    "<h3> To improve the model: Add more features (job_title, remote_ratio, company_size). Use one-hot encoding for categorical data. Try more complex models like RandomForest or Gradient Boosting to capture non-linear salary patterns. </h3>"
   ]
  },
  {
   "cell_type": "markdown",
   "id": "b678b67a-dc18-4ff8-a56a-1780791ab4f2",
   "metadata": {},
   "source": [
    "<h2> 4. Why is **R² not enough** to trust your predictions? </h2>"
   ]
  },
  {
   "cell_type": "markdown",
   "id": "42ec72c1-79e0-4656-ad67-0364e52f778d",
   "metadata": {},
   "source": [
    "<h3> R² alone is not enough because: A high R² does not mean the predictions are accurate. It only shows how well the model fits training data. Real-world salaries often change non-linearly, which linear regression cannot capture well. </h3>"
   ]
  },
  {
   "cell_type": "code",
   "execution_count": null,
   "id": "825a50b7-afcf-4d80-8b3d-98ce8f53a975",
   "metadata": {},
   "outputs": [],
   "source": []
  }
 ],
 "metadata": {
  "kernelspec": {
   "display_name": "Python 3 (ipykernel)",
   "language": "python",
   "name": "python3"
  },
  "language_info": {
   "codemirror_mode": {
    "name": "ipython",
    "version": 3
   },
   "file_extension": ".py",
   "mimetype": "text/x-python",
   "name": "python",
   "nbconvert_exporter": "python",
   "pygments_lexer": "ipython3",
   "version": "3.13.0"
  }
 },
 "nbformat": 4,
 "nbformat_minor": 5
}
